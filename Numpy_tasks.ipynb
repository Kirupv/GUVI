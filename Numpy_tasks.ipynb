{
 "cells": [
  {
   "cell_type": "markdown",
   "metadata": {
    "id": "hsXpG4gUB9BY"
   },
   "source": [
    "# Numpy\n",
    "\n"
   ]
  },
  {
   "cell_type": "markdown",
   "metadata": {
    "id": "sN5E3ms4B9Bq"
   },
   "source": [
    "#### 1. Import the numpy package under the name `np` (★☆☆) \n",
    "(**hint**: import … as …)"
   ]
  },
  {
   "cell_type": "code",
   "execution_count": 1,
   "metadata": {
    "id": "8wGNuHPNB9Bx"
   },
   "outputs": [],
   "source": [
    "import numpy as np"
   ]
  },
  {
   "cell_type": "markdown",
   "metadata": {
    "id": "8_81NSWNB9Bz"
   },
   "source": [
    "#### 2. Print the numpy version and the configuration (★☆☆) \n",
    "(**hint**: np.\\_\\_version\\_\\_, np.show\\_config)"
   ]
  },
  {
   "cell_type": "code",
   "execution_count": 10,
   "metadata": {
    "id": "Qvbj3e0vB9B1"
   },
   "outputs": [
    {
     "name": "stdout",
     "output_type": "stream",
     "text": [
      "1.19.5\n",
      "<function show at 0x000001F3B01B3820>\n"
     ]
    }
   ],
   "source": [
    "print(np.__version__)\n",
    "print(np.show_config)"
   ]
  },
  {
   "cell_type": "markdown",
   "metadata": {
    "id": "8YLcGXKaB9B2"
   },
   "source": [
    "#### 3. Create a null vector of size 10 (★☆☆) \n",
    "(**hint**: np.zeros)"
   ]
  },
  {
   "cell_type": "code",
   "execution_count": 3,
   "metadata": {
    "id": "kSG_LaT0B9B3"
   },
   "outputs": [
    {
     "name": "stdout",
     "output_type": "stream",
     "text": [
      "[0. 0. 0. 0. 0. 0. 0. 0. 0. 0.]\n"
     ]
    }
   ],
   "source": [
    "x=np.zeros(10)\n",
    "print(x)"
   ]
  },
  {
   "cell_type": "markdown",
   "metadata": {
    "id": "SxglgnCFB9B5"
   },
   "source": [
    "#### 4.  How to find the memory size of any array (★☆☆) \n",
    "(**hint**: size, itemsize)"
   ]
  },
  {
   "cell_type": "code",
   "execution_count": 9,
   "metadata": {
    "id": "5PDfQkA2B9B7"
   },
   "outputs": [
    {
     "data": {
      "text/plain": [
       "5"
      ]
     },
     "execution_count": 9,
     "metadata": {},
     "output_type": "execute_result"
    }
   ],
   "source": [
    "x=np.array([1,2,3,4,5])\n",
    "x.size"
   ]
  },
  {
   "cell_type": "markdown",
   "metadata": {
    "id": "zWCTRPlAB9B8"
   },
   "source": [
    "#### 5.  How to get the documentation of the numpy add function from the command line? (★☆☆) \n",
    "(**hint**: np.info)"
   ]
  },
  {
   "cell_type": "code",
   "execution_count": 10,
   "metadata": {
    "id": "86DQ9D9QB9B9"
   },
   "outputs": [
    {
     "name": "stdout",
     "output_type": "stream",
     "text": [
      "add(x1, x2, /, out=None, *, where=True, casting='same_kind', order='K', dtype=None, subok=True[, signature, extobj])\n",
      "\n",
      "Add arguments element-wise.\n",
      "\n",
      "Parameters\n",
      "----------\n",
      "x1, x2 : array_like\n",
      "    The arrays to be added.\n",
      "    If ``x1.shape != x2.shape``, they must be broadcastable to a common\n",
      "    shape (which becomes the shape of the output).\n",
      "out : ndarray, None, or tuple of ndarray and None, optional\n",
      "    A location into which the result is stored. If provided, it must have\n",
      "    a shape that the inputs broadcast to. If not provided or None,\n",
      "    a freshly-allocated array is returned. A tuple (possible only as a\n",
      "    keyword argument) must have length equal to the number of outputs.\n",
      "where : array_like, optional\n",
      "    This condition is broadcast over the input. At locations where the\n",
      "    condition is True, the `out` array will be set to the ufunc result.\n",
      "    Elsewhere, the `out` array will retain its original value.\n",
      "    Note that if an uninitialized `out` array is created via the default\n",
      "    ``out=None``, locations within it where the condition is False will\n",
      "    remain uninitialized.\n",
      "**kwargs\n",
      "    For other keyword-only arguments, see the\n",
      "    :ref:`ufunc docs <ufuncs.kwargs>`.\n",
      "\n",
      "Returns\n",
      "-------\n",
      "add : ndarray or scalar\n",
      "    The sum of `x1` and `x2`, element-wise.\n",
      "    This is a scalar if both `x1` and `x2` are scalars.\n",
      "\n",
      "Notes\n",
      "-----\n",
      "Equivalent to `x1` + `x2` in terms of array broadcasting.\n",
      "\n",
      "Examples\n",
      "--------\n",
      ">>> np.add(1.0, 4.0)\n",
      "5.0\n",
      ">>> x1 = np.arange(9.0).reshape((3, 3))\n",
      ">>> x2 = np.arange(3.0)\n",
      ">>> np.add(x1, x2)\n",
      "array([[  0.,   2.,   4.],\n",
      "       [  3.,   5.,   7.],\n",
      "       [  6.,   8.,  10.]])\n"
     ]
    }
   ],
   "source": [
    "np.info(np.add)"
   ]
  },
  {
   "cell_type": "markdown",
   "metadata": {
    "id": "4jZ9IpfvB9B-"
   },
   "source": [
    "#### 6.  Create a null vector of size 10 but the fifth value which is 1 (★☆☆) \n",
    "(**hint**: array\\[4\\])"
   ]
  },
  {
   "cell_type": "code",
   "execution_count": 11,
   "metadata": {
    "id": "etzHhVYNB9CB"
   },
   "outputs": [
    {
     "data": {
      "text/plain": [
       "array([0., 0., 0., 0., 0., 1., 0., 0., 0., 0.])"
      ]
     },
     "execution_count": 11,
     "metadata": {},
     "output_type": "execute_result"
    }
   ],
   "source": [
    "x=np.zeros(10)\n",
    "x[5]=1\n",
    "x"
   ]
  },
  {
   "cell_type": "markdown",
   "metadata": {
    "id": "WoupPCv-B9CC"
   },
   "source": [
    "#### 7.  Create a vector with values ranging from 10 to 49 (★☆☆) \n",
    "(**hint**: np.arange)"
   ]
  },
  {
   "cell_type": "code",
   "execution_count": 14,
   "metadata": {
    "id": "qECzBKsXB9CE"
   },
   "outputs": [
    {
     "data": {
      "text/plain": [
       "array([10, 11, 12, 13, 14, 15, 16, 17, 18, 19, 20, 21, 22, 23, 24, 25, 26,\n",
       "       27, 28, 29, 30, 31, 32, 33, 34, 35, 36, 37, 38, 39, 40, 41, 42, 43,\n",
       "       44, 45, 46, 47, 48, 49])"
      ]
     },
     "execution_count": 14,
     "metadata": {},
     "output_type": "execute_result"
    }
   ],
   "source": [
    "x=np.array(range(10,50))\n",
    "x"
   ]
  },
  {
   "cell_type": "markdown",
   "metadata": {
    "id": "FTu1pUPUB9CE"
   },
   "source": [
    "#### 8.  Reverse a vector (first element becomes last) (★☆☆) \n",
    "(**hint**: array\\[::-1\\])"
   ]
  },
  {
   "cell_type": "code",
   "execution_count": 18,
   "metadata": {
    "id": "FofR2pb_B9CG"
   },
   "outputs": [
    {
     "data": {
      "text/plain": [
       "array([49, 48, 47, 46, 45, 44, 43, 42, 41, 40, 39, 38, 37, 36, 35, 34, 33,\n",
       "       32, 31, 30, 29, 28, 27, 26, 25, 24, 23, 22, 21, 20, 19, 18, 17, 16,\n",
       "       15, 14, 13, 12, 11, 10])"
      ]
     },
     "execution_count": 18,
     "metadata": {},
     "output_type": "execute_result"
    }
   ],
   "source": [
    "a=np.array(range(10,50))\n",
    "a[::-1]"
   ]
  },
  {
   "cell_type": "markdown",
   "metadata": {
    "id": "V7LBo7s7B9CH"
   },
   "source": [
    "#### 9.  Create a 3x3 matrix with values ranging from 0 to 8 (★☆☆) \n",
    "(**hint**: reshape)"
   ]
  },
  {
   "cell_type": "code",
   "execution_count": 21,
   "metadata": {
    "id": "degYy73LB9CI"
   },
   "outputs": [
    {
     "data": {
      "text/plain": [
       "array([[0, 1, 2],\n",
       "       [3, 4, 5],\n",
       "       [6, 7, 8]])"
      ]
     },
     "execution_count": 21,
     "metadata": {},
     "output_type": "execute_result"
    }
   ],
   "source": [
    "a=np.array(range(0,9))\n",
    "a.reshape(3,3)"
   ]
  },
  {
   "cell_type": "markdown",
   "metadata": {
    "id": "CgvO52NvB9CJ"
   },
   "source": [
    "#### 10. Find indices of non-zero elements from \\[1,2,0,0,4,0\\] (★☆☆) \n",
    "(**hint**: np.nonzero)"
   ]
  },
  {
   "cell_type": "code",
   "execution_count": 22,
   "metadata": {
    "id": "PepieY4lB9CK"
   },
   "outputs": [
    {
     "data": {
      "text/plain": [
       "(array([0, 1, 4], dtype=int64),)"
      ]
     },
     "execution_count": 22,
     "metadata": {},
     "output_type": "execute_result"
    }
   ],
   "source": [
    "a=[1,2,0,0,4,0]\n",
    "np.nonzero(a)"
   ]
  },
  {
   "cell_type": "markdown",
   "metadata": {
    "id": "bUF3-Ni1B9CL"
   },
   "source": [
    "#### 11. Create a 3x3 identity matrix (★☆☆) \n",
    "(**hint**: np.eye)"
   ]
  },
  {
   "cell_type": "code",
   "execution_count": 24,
   "metadata": {
    "id": "IWA1scRQB9CM"
   },
   "outputs": [
    {
     "data": {
      "text/plain": [
       "array([[1, 0, 0],\n",
       "       [0, 1, 0],\n",
       "       [0, 0, 1]])"
      ]
     },
     "execution_count": 24,
     "metadata": {},
     "output_type": "execute_result"
    }
   ],
   "source": [
    "np.eye(3,3,dtype=int)"
   ]
  },
  {
   "cell_type": "markdown",
   "metadata": {
    "id": "lI1CbcjoB9CM"
   },
   "source": [
    "#### 12. Create a 3x3x3 array with random values (★☆☆) \n",
    "(**hint**: np.random.random)"
   ]
  },
  {
   "cell_type": "code",
   "execution_count": 33,
   "metadata": {
    "id": "HGkIz-xVB9CN"
   },
   "outputs": [
    {
     "data": {
      "text/plain": [
       "array([[[0.56220609, 0.29995598, 0.16440761],\n",
       "        [0.89686945, 0.89005671, 0.80671405],\n",
       "        [0.51365554, 0.12738247, 0.87618142]],\n",
       "\n",
       "       [[0.98350849, 0.49108079, 0.74959385],\n",
       "        [0.42095797, 0.87488064, 0.31953137],\n",
       "        [0.16205912, 0.94753052, 0.19709793]],\n",
       "\n",
       "       [[0.08543927, 0.96504128, 0.70337832],\n",
       "        [0.06823225, 0.79590628, 0.0794278 ],\n",
       "        [0.09093229, 0.39193761, 0.78087761]]])"
      ]
     },
     "execution_count": 33,
     "metadata": {},
     "output_type": "execute_result"
    }
   ],
   "source": [
    "a=np.random.random((3,3,3))\n",
    "a"
   ]
  },
  {
   "cell_type": "markdown",
   "metadata": {
    "id": "votuQbCSB9CN"
   },
   "source": [
    "#### 13. Create a 10x10 array with random values and find the minimum and maximum values (★☆☆) \n",
    "(**hint**: min, max)"
   ]
  },
  {
   "cell_type": "code",
   "execution_count": 34,
   "metadata": {
    "id": "MKbILCbgB9CO"
   },
   "outputs": [
    {
     "name": "stdout",
     "output_type": "stream",
     "text": [
      "0.9875162994509007\n",
      "0.008581110862493357\n"
     ]
    },
    {
     "data": {
      "text/plain": [
       "array([[[0.138671  , 0.6111618 , 0.03103539],\n",
       "        [0.84101232, 0.77711589, 0.02317081],\n",
       "        [0.96188938, 0.65464218, 0.18075917]],\n",
       "\n",
       "       [[0.28399457, 0.15990181, 0.93983776],\n",
       "        [0.12748598, 0.00858111, 0.9875163 ],\n",
       "        [0.92370243, 0.25941058, 0.43586744]],\n",
       "\n",
       "       [[0.93104349, 0.21789487, 0.33464882],\n",
       "        [0.83683738, 0.72114058, 0.63976239],\n",
       "        [0.3295908 , 0.36981162, 0.01049676]]])"
      ]
     },
     "execution_count": 34,
     "metadata": {},
     "output_type": "execute_result"
    }
   ],
   "source": [
    "a=np.random.random((3,3,3))\n",
    "print(np.max(a))\n",
    "print(np.min(a))\n",
    "a"
   ]
  },
  {
   "cell_type": "markdown",
   "metadata": {
    "id": "nLOXWDvuB9CO"
   },
   "source": [
    "#### 14. Create a random vector of size 30 and find the mean value (★☆☆) \n",
    "(**hint**: mean)"
   ]
  },
  {
   "cell_type": "code",
   "execution_count": 42,
   "metadata": {
    "id": "OwXxnLCMB9CQ"
   },
   "outputs": [
    {
     "name": "stdout",
     "output_type": "stream",
     "text": [
      "0.4561533698712935\n"
     ]
    },
    {
     "data": {
      "text/plain": [
       "array([0.55749172, 0.94205668, 0.2287413 , 0.867377  , 0.37556541,\n",
       "       0.93432047, 0.90797127, 0.75903777, 0.78633169, 0.00936489,\n",
       "       0.38456394, 0.69965167, 0.06213029, 0.27719553, 0.16952512,\n",
       "       0.06022541, 0.65376547, 0.93169129, 0.60227438, 0.14557828,\n",
       "       0.33848476, 0.04661492, 0.25930965, 0.38114353, 0.28479252,\n",
       "       0.13239353, 0.64495675, 0.08064424, 0.50317105, 0.65823057])"
      ]
     },
     "execution_count": 42,
     "metadata": {},
     "output_type": "execute_result"
    }
   ],
   "source": [
    "a=np.random.rand(30)\n",
    "print(np.mean(a))\n",
    "a"
   ]
  },
  {
   "cell_type": "markdown",
   "metadata": {
    "id": "q8NZSY2-B9CR"
   },
   "source": [
    "#### 15. Create a 2d array with 1 on the border and 0 inside (★☆☆) \n",
    "(**hint**: array\\[1:-1, 1:-1\\])"
   ]
  },
  {
   "cell_type": "code",
   "execution_count": 43,
   "metadata": {
    "id": "Z24OzQepB9CT"
   },
   "outputs": [
    {
     "data": {
      "text/plain": [
       "array([[1., 1., 1., 1., 1.],\n",
       "       [1., 0., 0., 0., 1.],\n",
       "       [1., 0., 0., 0., 1.],\n",
       "       [1., 0., 0., 0., 1.],\n",
       "       [1., 1., 1., 1., 1.]])"
      ]
     },
     "execution_count": 43,
     "metadata": {},
     "output_type": "execute_result"
    }
   ],
   "source": [
    "x=np.ones((5,5))\n",
    "x[1:-1,1:-1]=0\n",
    "x"
   ]
  },
  {
   "cell_type": "markdown",
   "metadata": {
    "id": "WWThF0mXB9CU"
   },
   "source": [
    "#### 16. How to add a border (filled with 0's) around an existing array? (★☆☆) \n",
    "(**hint**: np.pad)"
   ]
  },
  {
   "cell_type": "code",
   "execution_count": 44,
   "metadata": {
    "id": "Sal5dpU-B9CV"
   },
   "outputs": [
    {
     "data": {
      "text/plain": [
       "array([[0., 0., 0., 0., 0., 0., 0.],\n",
       "       [0., 1., 1., 1., 1., 1., 0.],\n",
       "       [0., 1., 1., 1., 1., 1., 0.],\n",
       "       [0., 1., 1., 1., 1., 1., 0.],\n",
       "       [0., 1., 1., 1., 1., 1., 0.],\n",
       "       [0., 1., 1., 1., 1., 1., 0.],\n",
       "       [0., 0., 0., 0., 0., 0., 0.]])"
      ]
     },
     "execution_count": 44,
     "metadata": {},
     "output_type": "execute_result"
    }
   ],
   "source": [
    "x=np.ones((5,5))\n",
    "y=np.pad(x,pad_width=1,mode='constant',constant_values=0)\n",
    "y"
   ]
  },
  {
   "cell_type": "markdown",
   "metadata": {
    "id": "hh600nWvB9CV"
   },
   "source": [
    "# 17. What is the result of the following expression? (★☆☆) \n",
    "(**hint**: NaN = not a number, inf = infinity)"
   ]
  },
  {
   "cell_type": "markdown",
   "metadata": {
    "id": "tu9kWk25B9CW"
   },
   "source": [
    "```python\n",
    "0 * np.nan\n",
    "np.nan == np.nan\n",
    "np.inf > np.nan\n",
    "np.nan - np.nan\n",
    "0.3 == 3 * 0.1\n",
    "```"
   ]
  },
  {
   "cell_type": "code",
   "execution_count": 47,
   "metadata": {
    "id": "DDH3AJcQB9CX"
   },
   "outputs": [
    {
     "data": {
      "text/plain": [
       "False"
      ]
     },
     "execution_count": 47,
     "metadata": {},
     "output_type": "execute_result"
    }
   ],
   "source": [
    "0 * np.nan\n",
    "np.nan == np.nan\n",
    "np.inf > np.nan\n",
    "np.nan - np.nan\n",
    "0.3 == 3 * 0.1"
   ]
  },
  {
   "cell_type": "markdown",
   "metadata": {
    "id": "4Kr8pD6LB9CY"
   },
   "source": [
    "#### 18. Create a 5x5 matrix with values 1,2,3,4 just below the diagonal (★☆☆) \n",
    "(**hint**: np.diag)"
   ]
  },
  {
   "cell_type": "code",
   "execution_count": 1,
   "metadata": {
    "id": "dYhJRkH4B9CZ"
   },
   "outputs": [
    {
     "data": {
      "text/plain": [
       "array([[1., 2., 3., 4., 5.],\n",
       "       [1., 2., 3., 4., 5.],\n",
       "       [1., 2., 3., 4., 5.],\n",
       "       [1., 2., 3., 4., 5.],\n",
       "       [1., 2., 3., 4., 5.]])"
      ]
     },
     "execution_count": 1,
     "metadata": {},
     "output_type": "execute_result"
    }
   ],
   "source": [
    "import numpy as np\n",
    "x = np.ones((5,5))\n",
    "x+=np.arange(5)\n",
    "x"
   ]
  },
  {
   "cell_type": "markdown",
   "metadata": {
    "id": "9Zf-IKM1B9CZ"
   },
   "source": [
    "#### 19. Create a 8x8 matrix and fill it with a checkerboard pattern (★☆☆) \n",
    "(**hint**: array\\[::2\\])"
   ]
  },
  {
   "cell_type": "code",
   "execution_count": 2,
   "metadata": {
    "id": "c6STM5oKB9Ca"
   },
   "outputs": [
    {
     "data": {
      "text/plain": [
       "array([[0, 1, 0, 1, 0, 1, 0, 1],\n",
       "       [1, 0, 1, 0, 1, 0, 1, 0],\n",
       "       [0, 1, 0, 1, 0, 1, 0, 1],\n",
       "       [1, 0, 1, 0, 1, 0, 1, 0],\n",
       "       [0, 1, 0, 1, 0, 1, 0, 1],\n",
       "       [1, 0, 1, 0, 1, 0, 1, 0],\n",
       "       [0, 1, 0, 1, 0, 1, 0, 1],\n",
       "       [1, 0, 1, 0, 1, 0, 1, 0]])"
      ]
     },
     "execution_count": 2,
     "metadata": {},
     "output_type": "execute_result"
    }
   ],
   "source": [
    "x=np.ones((3,3))\n",
    "x=np.zeros((8,8),dtype=int)\n",
    "x[1::2,::2]=1\n",
    "x[::2,1::2]=1\n",
    "x"
   ]
  },
  {
   "cell_type": "markdown",
   "metadata": {
    "id": "ekSDsL-sB9Cb"
   },
   "source": [
    "#### 20. Consider a (6,7,8) shape array, what is the index (x,y,z) of the 100th element? \n",
    "(**hint**: np.unravel_index)"
   ]
  },
  {
   "cell_type": "code",
   "execution_count": 3,
   "metadata": {
    "id": "aP9iQzmmB9Cb"
   },
   "outputs": [
    {
     "data": {
      "text/plain": [
       "(1, 5, 4)"
      ]
     },
     "execution_count": 3,
     "metadata": {},
     "output_type": "execute_result"
    }
   ],
   "source": [
    "np.unravel_index(100,(6,7,8))"
   ]
  },
  {
   "cell_type": "markdown",
   "metadata": {
    "id": "Dv2AESmCB9Cd"
   },
   "source": [
    "#### 21. Create a checkerboard 8x8 matrix using the tile function (★☆☆) \n",
    "(**hint**: np.tile)"
   ]
  },
  {
   "cell_type": "code",
   "execution_count": 4,
   "metadata": {
    "id": "-xmr68nVB9Cg"
   },
   "outputs": [
    {
     "data": {
      "text/plain": [
       "array([[0, 1, 0, 1, 0, 1, 0, 1],\n",
       "       [1, 0, 1, 0, 1, 0, 1, 0],\n",
       "       [0, 1, 0, 1, 0, 1, 0, 1],\n",
       "       [1, 0, 1, 0, 1, 0, 1, 0],\n",
       "       [0, 1, 0, 1, 0, 1, 0, 1],\n",
       "       [1, 0, 1, 0, 1, 0, 1, 0],\n",
       "       [0, 1, 0, 1, 0, 1, 0, 1],\n",
       "       [1, 0, 1, 0, 1, 0, 1, 0]])"
      ]
     },
     "execution_count": 4,
     "metadata": {},
     "output_type": "execute_result"
    }
   ],
   "source": [
    "a=np.array([[0,1],[1,0]])\n",
    "y=np.tile(a,(4,4))\n",
    "y"
   ]
  },
  {
   "cell_type": "markdown",
   "metadata": {
    "id": "sT6GdI4gB9Ci"
   },
   "source": [
    "#### 22. Normalize a 5x5 random matrix (★☆☆) \n",
    "(**hint**: (x - min) / (max - min))"
   ]
  },
  {
   "cell_type": "code",
   "execution_count": 5,
   "metadata": {
    "id": "evtN150qB9Ck"
   },
   "outputs": [
    {
     "data": {
      "text/plain": [
       "array([[0.90172357, 0.72393699, 0.4383775 , 0.88572248, 0.32474758],\n",
       "       [0.29504746, 0.56740596, 0.38645589, 0.98492913, 0.19297431],\n",
       "       [0.69419633, 0.24469619, 0.        , 0.60722026, 1.        ],\n",
       "       [0.37747095, 0.05139337, 0.30549173, 0.28960821, 0.62418607],\n",
       "       [0.24394545, 0.45378158, 0.11461114, 0.79351402, 0.8390437 ]])"
      ]
     },
     "execution_count": 5,
     "metadata": {},
     "output_type": "execute_result"
    }
   ],
   "source": [
    "x=np.random.random((5,5))\n",
    "xmax,xmin=x.max(),x.min()\n",
    "x=(x-xmin)/(xmax-xmin)\n",
    "x"
   ]
  },
  {
   "cell_type": "markdown",
   "metadata": {
    "id": "hjE3w2btB9Cl"
   },
   "source": [
    "#### 23. Create a custom dtype that describes a color as four unsigned bytes (RGBA) (★☆☆) \n",
    "(**hint**: np.dtype)"
   ]
  },
  {
   "cell_type": "code",
   "execution_count": 14,
   "metadata": {
    "id": "Y0hc5Qs0B9Cl"
   },
   "outputs": [
    {
     "name": "stdout",
     "output_type": "stream",
     "text": [
      "1\n"
     ]
    },
    {
     "data": {
      "text/plain": [
       "numpy.ndarray"
      ]
     },
     "execution_count": 14,
     "metadata": {},
     "output_type": "execute_result"
    }
   ],
   "source": [
    "RGBA = np.dtype([('red',np.uint8),('green',np.uint8),('blue',np.uint8),('alpha',np.uint8)])\n",
    "color = np.array((1,2,4,3),dtype = RGBA)\n",
    "print(color['red'])\n",
    "type(color)\n"
   ]
  },
  {
   "cell_type": "markdown",
   "metadata": {
    "id": "66Lb0RUcB9Cm"
   },
   "source": [
    "#### 24. Multiply a 5x3 matrix by a 3x2 matrix (real matrix product) (★☆☆) \n",
    "(**hint**: np.dot | @)"
   ]
  },
  {
   "cell_type": "code",
   "execution_count": 6,
   "metadata": {
    "id": "CS12V99eB9Cm"
   },
   "outputs": [
    {
     "data": {
      "text/plain": [
       "array([[3., 3.],\n",
       "       [3., 3.],\n",
       "       [3., 3.],\n",
       "       [3., 3.],\n",
       "       [3., 3.]])"
      ]
     },
     "execution_count": 6,
     "metadata": {},
     "output_type": "execute_result"
    }
   ],
   "source": [
    "x=np.dot(np.ones((5,3)),np.ones((3,2)))\n",
    "x"
   ]
  },
  {
   "cell_type": "markdown",
   "metadata": {
    "id": "kASimm5HB9Cn"
   },
   "source": [
    "#### 25. Given a 1D array, negate all elements which are between 3 and 8, in place. (★☆☆) \n",
    "(**hint**: >, <=)"
   ]
  },
  {
   "cell_type": "code",
   "execution_count": 7,
   "metadata": {
    "id": "BwlQiC9NB9Co"
   },
   "outputs": [
    {
     "name": "stdout",
     "output_type": "stream",
     "text": [
      "[False False False  True  True  True  True  True  True  True  True  True\n",
      "  True  True  True  True]\n",
      "[ 0  1  2 -3 -4 -5 -6 -7 -8  9 10 11 12 13 14 15]\n"
     ]
    }
   ],
   "source": [
    "arr = np.arange(16)\n",
    "print(arr>=3)\n",
    "arr[(arr>=3)&(arr<=8)]*=(-1)\n",
    "print(arr)"
   ]
  },
  {
   "cell_type": "markdown",
   "metadata": {
    "id": "-wV--7PbB9Co"
   },
   "source": [
    "#### 26. What is the output of the following script? (★☆☆) \n",
    "(**hint**: np.sum)"
   ]
  },
  {
   "cell_type": "markdown",
   "metadata": {
    "id": "c8SSf9rEB9Cp"
   },
   "source": [
    "```python\n",
    "# Author: Jake VanderPlas\n",
    "\n",
    "print(sum(range(5),-1))\n",
    "from numpy import *\n",
    "print(sum(range(5),-1))\n",
    "```"
   ]
  },
  {
   "cell_type": "code",
   "execution_count": 11,
   "metadata": {
    "id": "ShY3a9z_B9Cq"
   },
   "outputs": [
    {
     "name": "stdout",
     "output_type": "stream",
     "text": [
      "9\n",
      "10\n"
     ]
    }
   ],
   "source": [
    "9\n",
    "10"
   ]
  },
  {
   "cell_type": "markdown",
   "metadata": {
    "id": "QzTc9v0rB9Cq"
   },
   "source": [
    "#### 27. Consider an integer vector Z, which of these expressions are legal? (★☆☆)"
   ]
  },
  {
   "cell_type": "markdown",
   "metadata": {
    "id": "zEpWR30EB9Cq"
   },
   "source": [
    "```python\n",
    "Z**Z\n",
    "2 << Z >> 2\n",
    "Z <- Z\n",
    "1j*Z\n",
    "Z/1/1\n",
    "Z<Z>Z\n",
    "```"
   ]
  },
  {
   "cell_type": "code",
   "execution_count": null,
   "metadata": {},
   "outputs": [],
   "source": []
  },
  {
   "cell_type": "markdown",
   "metadata": {
    "id": "sfIgsicHB9Cr"
   },
   "source": [
    "#### 28. What are the result of the following expressions?"
   ]
  },
  {
   "cell_type": "markdown",
   "metadata": {
    "id": "DqwOR83NB9Cs"
   },
   "source": [
    "```python\n",
    "np.array(0) / np.array(0)\n",
    "np.array(0) // np.array(0)\n",
    "np.array([np.nan]).astype(int).astype(float)\n",
    "```"
   ]
  },
  {
   "cell_type": "code",
   "execution_count": null,
   "metadata": {
    "id": "xGKeD7s_B9Cs"
   },
   "outputs": [],
   "source": [
    "array([-2.14748365e+09])"
   ]
  },
  {
   "cell_type": "markdown",
   "metadata": {
    "id": "BXNTPK_7B9Cu"
   },
   "source": [
    "#### 29. How to round away from zero a float array ? (★☆☆) \n",
    "(**hint**: np.uniform, np.copysign, np.ceil, np.abs)"
   ]
  },
  {
   "cell_type": "code",
   "execution_count": 11,
   "metadata": {
    "id": "jQycN8IvB9Cw"
   },
   "outputs": [
    {
     "name": "stdout",
     "output_type": "stream",
     "text": [
      "[[0.47597156 0.24387402 0.00687425 0.37632996 0.8578566 ]\n",
      " [0.03085485 0.45235814 0.7565295  0.89421379 0.24569201]\n",
      " [0.57826744 0.86417431 0.58258041 0.31349386 0.3225753 ]\n",
      " [0.3166073  0.54230997 0.02399376 0.77681882 0.03947472]\n",
      " [0.72417257 0.13484115 0.36092571 0.33088133 0.89202199]]\n",
      "[[0.48 0.24 0.01 0.38 0.86]\n",
      " [0.03 0.45 0.76 0.89 0.25]\n",
      " [0.58 0.86 0.58 0.31 0.32]\n",
      " [0.32 0.54 0.02 0.78 0.04]\n",
      " [0.72 0.13 0.36 0.33 0.89]]\n"
     ]
    }
   ],
   "source": [
    "arr = np.random.random((5,5))\n",
    "print(arr)\n",
    "arr = np.round(arr,2)\n",
    "print(arr)"
   ]
  },
  {
   "cell_type": "markdown",
   "metadata": {
    "id": "JbE6iPr5B9Cx"
   },
   "source": [
    "#### 30. How to find common values between two arrays? (★☆☆) \n",
    "(**hint**: np.intersect1d)"
   ]
  },
  {
   "cell_type": "code",
   "execution_count": 12,
   "metadata": {
    "id": "YLWBnDBSB9Cz"
   },
   "outputs": [
    {
     "name": "stdout",
     "output_type": "stream",
     "text": [
      "[1 2 3]\n"
     ]
    }
   ],
   "source": [
    "x = np.array([1,2,3,4])\n",
    "y = np.array([2,3,1,9])\n",
    "print(np.intersect1d(x,y))"
   ]
  },
  {
   "cell_type": "markdown",
   "metadata": {
    "id": "a44YOCLgB9Cz"
   },
   "source": [
    "#### 31. How to ignore all numpy warnings (not recommended)? (★☆☆) \n",
    "(**hint**: np.seterr, np.errstate)"
   ]
  },
  {
   "cell_type": "code",
   "execution_count": 13,
   "metadata": {
    "id": "EEtoyeDOB9C0"
   },
   "outputs": [
    {
     "data": {
      "text/plain": [
       "{'divide': 'warn', 'over': 'warn', 'under': 'ignore', 'invalid': 'warn'}"
      ]
     },
     "execution_count": 13,
     "metadata": {},
     "output_type": "execute_result"
    }
   ],
   "source": [
    "data = np.random.random(1000).reshape(10,10,10)*np.nan\n",
    "np.seterr(all='ignore')"
   ]
  },
  {
   "cell_type": "markdown",
   "metadata": {
    "id": "XcE7vlkKB9C0"
   },
   "source": [
    "#### 32. Is the following expressions true? (★☆☆) \n",
    "(**hint**: imaginary number)"
   ]
  },
  {
   "cell_type": "markdown",
   "metadata": {
    "id": "Q-gmUBsoB9C1"
   },
   "source": [
    "```python\n",
    "np.sqrt(-1) == np.emath.sqrt(-1)\n",
    "```"
   ]
  },
  {
   "cell_type": "code",
   "execution_count": null,
   "metadata": {
    "id": "6yEkB1SLB9C1"
   },
   "outputs": [],
   "source": [
    "false"
   ]
  },
  {
   "cell_type": "markdown",
   "metadata": {
    "id": "R3nmlJ_KB9C2"
   },
   "source": [
    "#### 33. How to get the dates of yesterday, today and tomorrow? (★☆☆) \n",
    "(**hint**: np.datetime64, np.timedelta64)"
   ]
  },
  {
   "cell_type": "code",
   "execution_count": 16,
   "metadata": {
    "id": "Waox4wBUB9C3"
   },
   "outputs": [],
   "source": [
    "yesterday = np.datetime64('today','D')-np.timedelta64(1, 'D')\n",
    "today = np.datetime64('today', 'D')\n",
    "tomorrow = np.datetime64('today','D')+np.timedelta64(1, 'D')"
   ]
  },
  {
   "cell_type": "markdown",
   "metadata": {
    "id": "ghY5GGXNB9C3"
   },
   "source": [
    "#### 34. How to get all the dates corresponding to the month of July 2016? (★★☆) \n",
    "(**hint**: np.arange(dtype=datetime64\\['D'\\]))"
   ]
  },
  {
   "cell_type": "code",
   "execution_count": 18,
   "metadata": {
    "id": "0tjXaSgtB9C4"
   },
   "outputs": [
    {
     "name": "stdout",
     "output_type": "stream",
     "text": [
      "['2016-07-01' '2016-07-02' '2016-07-03' '2016-07-04' '2016-07-05'\n",
      " '2016-07-06' '2016-07-07' '2016-07-08' '2016-07-09' '2016-07-10'\n",
      " '2016-07-11' '2016-07-12' '2016-07-13' '2016-07-14' '2016-07-15'\n",
      " '2016-07-16' '2016-07-17' '2016-07-18' '2016-07-19' '2016-07-20'\n",
      " '2016-07-21' '2016-07-22' '2016-07-23' '2016-07-24' '2016-07-25'\n",
      " '2016-07-26' '2016-07-27' '2016-07-28' '2016-07-29' '2016-07-30'\n",
      " '2016-07-31']\n"
     ]
    }
   ],
   "source": [
    "Z = np.arange('2016-07','2016-08',dtype = 'datetime64[D]')\n",
    "print(Z)"
   ]
  },
  {
   "cell_type": "markdown",
   "metadata": {
    "id": "iw6NM85iB9C4"
   },
   "source": [
    "#### 35. How to compute ((A+B)\\*(-A/2)) in place (without copy)? (★★☆) \n",
    "(**hint**: np.add(out=), np.negative(out=), np.multiply(out=), np.divide(out=))"
   ]
  },
  {
   "cell_type": "code",
   "execution_count": 19,
   "metadata": {
    "id": "xa3KrgCCB9C5"
   },
   "outputs": [
    {
     "data": {
      "text/plain": [
       "-4.5"
      ]
     },
     "execution_count": 19,
     "metadata": {},
     "output_type": "execute_result"
    }
   ],
   "source": [
    "A = np.ones(3)*1\n",
    "B = np.ones(3)*2\n",
    "C = np.ones(3)*3\n",
    "np.add(A,B,out=B)\n",
    "np.divide(A,2,out=A)\n",
    "np.negative(A,out=A)\n",
    "np.dot(A,B)"
   ]
  },
  {
   "cell_type": "markdown",
   "metadata": {
    "id": "riON5AQHB9C5"
   },
   "source": [
    "#### 36. Extract the integer part of a random array using 5 different methods (★★☆) \n",
    "(**hint**: %, np.floor, np.ceil, astype, np.trunc)"
   ]
  },
  {
   "cell_type": "code",
   "execution_count": 20,
   "metadata": {
    "id": "lmcPAI-MB9C5"
   },
   "outputs": [
    {
     "name": "stdout",
     "output_type": "stream",
     "text": [
      "[6. 0. 9. 5. 0. 8. 9. 9. 5. 6.]\n",
      "[6. 0. 9. 5. 0. 8. 9. 9. 5. 6.]\n",
      "[6. 0. 9. 5. 0. 8. 9. 9. 5. 6.]\n",
      "[6 0 9 5 0 8 9 9 5 6]\n"
     ]
    }
   ],
   "source": [
    "Z = np.random.uniform(0,10,10)\n",
    "print(Z-Z%1)\n",
    "print(np.floor(Z))\n",
    "print(np.ceil(Z)-1)\n",
    "print(Z.astype(int))"
   ]
  },
  {
   "cell_type": "markdown",
   "metadata": {
    "id": "bAulYSCMB9C6"
   },
   "source": [
    "#### 37. Create a 5x5 matrix with row values ranging from 0 to 4 (★★☆) \n",
    "(**hint**: np.arange)"
   ]
  },
  {
   "cell_type": "code",
   "execution_count": 7,
   "metadata": {
    "id": "_XYBNkt3B9C6"
   },
   "outputs": [
    {
     "data": {
      "text/plain": [
       "array([[0., 1., 2., 3., 4.],\n",
       "       [0., 1., 2., 3., 4.],\n",
       "       [0., 1., 2., 3., 4.],\n",
       "       [0., 1., 2., 3., 4.],\n",
       "       [0., 1., 2., 3., 4.]])"
      ]
     },
     "execution_count": 7,
     "metadata": {},
     "output_type": "execute_result"
    }
   ],
   "source": [
    "x=np.zeros((5,5))\n",
    "x+=np.arange(5)\n",
    "x"
   ]
  },
  {
   "cell_type": "markdown",
   "metadata": {
    "id": "m2io2eccB9C7"
   },
   "source": [
    "#### 38. Consider a generator function that generates 10 integers and use it to build an array (★☆☆) \n",
    "(**hint**: np.fromiter)"
   ]
  },
  {
   "cell_type": "code",
   "execution_count": 8,
   "metadata": {
    "id": "4fGjrk-4B9C8"
   },
   "outputs": [
    {
     "data": {
      "text/plain": [
       "array([0., 1., 2., 3., 4., 5., 6., 7., 8., 9.])"
      ]
     },
     "execution_count": 8,
     "metadata": {},
     "output_type": "execute_result"
    }
   ],
   "source": [
    "def forma():\n",
    "    for i in range(10):\n",
    "        yield i\n",
    "x=np.fromiter(forma(),dtype=float,count=-1)\n",
    "x"
   ]
  },
  {
   "cell_type": "markdown",
   "metadata": {
    "id": "8AORynPdB9C9"
   },
   "source": [
    "#### 39. Create a vector of size 10 with values ranging from 0 to 1, both excluded (★★☆) \n",
    "(**hint**: np.linspace)"
   ]
  },
  {
   "cell_type": "code",
   "execution_count": 10,
   "metadata": {
    "id": "Rkd4b4oOB9C-"
   },
   "outputs": [
    {
     "data": {
      "text/plain": [
       "array([0.09090909, 0.18181818, 0.27272727, 0.36363636, 0.45454545,\n",
       "       0.54545455, 0.63636364, 0.72727273, 0.81818182, 0.90909091])"
      ]
     },
     "execution_count": 10,
     "metadata": {},
     "output_type": "execute_result"
    }
   ],
   "source": [
    "np.linspace(0,1,12,endpoint=True)[1:-1]"
   ]
  },
  {
   "cell_type": "markdown",
   "metadata": {
    "id": "iQuegpW1B9C-"
   },
   "source": [
    "#### 40. Create a random vector of size 10 and sort it (★★☆) \n",
    "(**hint**: sort)"
   ]
  },
  {
   "cell_type": "code",
   "execution_count": 11,
   "metadata": {
    "id": "hswQAF-bB9C_"
   },
   "outputs": [
    {
     "data": {
      "text/plain": [
       "array([0.02367071, 0.13224857, 0.20445294, 0.28113908, 0.42028357,\n",
       "       0.43218867, 0.62519613, 0.64372197, 0.80820132, 0.90201296])"
      ]
     },
     "execution_count": 11,
     "metadata": {},
     "output_type": "execute_result"
    }
   ],
   "source": [
    "x=np.random.random(10)\n",
    "x.sort()\n",
    "x"
   ]
  },
  {
   "cell_type": "markdown",
   "metadata": {
    "id": "1i30IHWuB9C_"
   },
   "source": [
    "#### 41. How to sum a small array faster than np.sum? (★★☆) \n",
    "(**hint**: np.add.reduce)"
   ]
  },
  {
   "cell_type": "code",
   "execution_count": 12,
   "metadata": {
    "id": "jMuzmpUWB9DA"
   },
   "outputs": [
    {
     "data": {
      "text/plain": [
       "array([2.62514385, 2.54448412, 2.00789113, 1.99992671, 3.28719542])"
      ]
     },
     "execution_count": 12,
     "metadata": {},
     "output_type": "execute_result"
    }
   ],
   "source": [
    "x=np.random.random((5,5))\n",
    "np.add.reduce(x,dtype=float)"
   ]
  },
  {
   "cell_type": "markdown",
   "metadata": {
    "id": "cvIb2oRnB9DA"
   },
   "source": [
    "#### 42. Consider two random array A and B, check if they are equal (★★☆) \n",
    "(**hint**: np.allclose, np.array\\_equal)"
   ]
  },
  {
   "cell_type": "code",
   "execution_count": 13,
   "metadata": {
    "id": "960ubAHXB9DB"
   },
   "outputs": [
    {
     "data": {
      "text/plain": [
       "False"
      ]
     },
     "execution_count": 13,
     "metadata": {},
     "output_type": "execute_result"
    }
   ],
   "source": [
    "x=np.random.randint(0,2,5)\n",
    "y=np.random.randint(0,2,5)\n",
    "e=np.allclose(x,y)\n",
    "e"
   ]
  },
  {
   "cell_type": "markdown",
   "metadata": {
    "id": "O2uHqCjSB9DB"
   },
   "source": [
    "#### 43. Make an array immutable (read-only) (★★☆) \n",
    "(**hint**: flags.writeable)"
   ]
  },
  {
   "cell_type": "code",
   "execution_count": 14,
   "metadata": {
    "id": "tVYUYuNfB9DC"
   },
   "outputs": [
    {
     "ename": "ValueError",
     "evalue": "assignment destination is read-only",
     "output_type": "error",
     "traceback": [
      "\u001b[1;31m---------------------------------------------------------------------------\u001b[0m",
      "\u001b[1;31mValueError\u001b[0m                                Traceback (most recent call last)",
      "Input \u001b[1;32mIn [14]\u001b[0m, in \u001b[0;36m<cell line: 3>\u001b[1;34m()\u001b[0m\n\u001b[0;32m      1\u001b[0m x\u001b[38;5;241m=\u001b[39mnp\u001b[38;5;241m.\u001b[39mzeros(\u001b[38;5;241m5\u001b[39m)\n\u001b[0;32m      2\u001b[0m x\u001b[38;5;241m.\u001b[39mflags\u001b[38;5;241m.\u001b[39mwriteable\u001b[38;5;241m=\u001b[39m\u001b[38;5;28;01mFalse\u001b[39;00m\n\u001b[1;32m----> 3\u001b[0m x[\u001b[38;5;241m0\u001b[39m]\u001b[38;5;241m=\u001b[39m\u001b[38;5;241m1\u001b[39m\n\u001b[0;32m      4\u001b[0m x\n",
      "\u001b[1;31mValueError\u001b[0m: assignment destination is read-only"
     ]
    }
   ],
   "source": [
    "x=np.zeros(5)\n",
    "x.flags.writeable=False\n",
    "x[0]=1\n",
    "x"
   ]
  },
  {
   "cell_type": "markdown",
   "metadata": {
    "id": "e3Ccsqc5B9DE"
   },
   "source": [
    "#### 44. Consider a random 10x2 matrix representing cartesian coordinates, convert them to polar coordinates (★★☆) \n",
    "(**hint**: np.sqrt, np.arctan2)"
   ]
  },
  {
   "cell_type": "code",
   "execution_count": 16,
   "metadata": {
    "id": "Kb7fs3RuB9DF"
   },
   "outputs": [
    {
     "data": {
      "text/plain": [
       "(array([1.04917146, 1.06142757, 0.91654795, 0.85038265, 1.23255455,\n",
       "        0.18544922, 1.05724435, 1.13383838, 0.90457729, 0.59041328]),\n",
       " array([0.53818326, 0.66781808, 0.8056877 , 0.7683856 , 0.71072808,\n",
       "        0.40042696, 1.20025549, 1.05999034, 1.25672966, 0.2536714 ]))"
      ]
     },
     "execution_count": 16,
     "metadata": {},
     "output_type": "execute_result"
    }
   ],
   "source": [
    "x=np.random.random((10,2))\n",
    "a,b=x[:,0],x[:,1]\n",
    "y=np.sqrt(a**2+b**2)\n",
    "t=np.arctan2(b,a)\n",
    "y,t"
   ]
  },
  {
   "cell_type": "markdown",
   "metadata": {
    "id": "rGx1BDb8B9DF"
   },
   "source": [
    "#### 45. Create random vector of size 10 and replace the maximum value by 0 (★★☆) \n",
    "(**hint**: argmax)"
   ]
  },
  {
   "cell_type": "code",
   "execution_count": 17,
   "metadata": {
    "id": "tnBC3rHpB9DG"
   },
   "outputs": [
    {
     "data": {
      "text/plain": [
       "array([0.65657262, 0.91888251, 0.07934403, 0.35664964, 0.89740816,\n",
       "       0.06300189, 0.7780498 , 0.        , 0.57372184, 0.43454064])"
      ]
     },
     "execution_count": 17,
     "metadata": {},
     "output_type": "execute_result"
    }
   ],
   "source": [
    "x=np.random.random(10)\n",
    "x[x.argmax()]=0\n",
    "x"
   ]
  },
  {
   "cell_type": "markdown",
   "metadata": {
    "id": "EmFQxqfrB9DH"
   },
   "source": [
    "#### 46. Create a structured array with `x` and `y` coordinates covering the \\[0,1\\]x\\[0,1\\] area (★★☆) \n",
    "(**hint**: np.meshgrid)"
   ]
  },
  {
   "cell_type": "code",
   "execution_count": 18,
   "metadata": {
    "id": "QPOG9tMbB9DI"
   },
   "outputs": [
    {
     "name": "stdout",
     "output_type": "stream",
     "text": [
      "[[(0.        , 0.        ) (0.11111111, 0.        )\n",
      "  (0.22222222, 0.        ) (0.33333333, 0.        )\n",
      "  (0.44444444, 0.        ) (0.55555556, 0.        )\n",
      "  (0.66666667, 0.        ) (0.77777778, 0.        )\n",
      "  (0.88888889, 0.        ) (1.        , 0.        )]\n",
      " [(0.        , 0.11111111) (0.11111111, 0.11111111)\n",
      "  (0.22222222, 0.11111111) (0.33333333, 0.11111111)\n",
      "  (0.44444444, 0.11111111) (0.55555556, 0.11111111)\n",
      "  (0.66666667, 0.11111111) (0.77777778, 0.11111111)\n",
      "  (0.88888889, 0.11111111) (1.        , 0.11111111)]\n",
      " [(0.        , 0.22222222) (0.11111111, 0.22222222)\n",
      "  (0.22222222, 0.22222222) (0.33333333, 0.22222222)\n",
      "  (0.44444444, 0.22222222) (0.55555556, 0.22222222)\n",
      "  (0.66666667, 0.22222222) (0.77777778, 0.22222222)\n",
      "  (0.88888889, 0.22222222) (1.        , 0.22222222)]\n",
      " [(0.        , 0.33333333) (0.11111111, 0.33333333)\n",
      "  (0.22222222, 0.33333333) (0.33333333, 0.33333333)\n",
      "  (0.44444444, 0.33333333) (0.55555556, 0.33333333)\n",
      "  (0.66666667, 0.33333333) (0.77777778, 0.33333333)\n",
      "  (0.88888889, 0.33333333) (1.        , 0.33333333)]\n",
      " [(0.        , 0.44444444) (0.11111111, 0.44444444)\n",
      "  (0.22222222, 0.44444444) (0.33333333, 0.44444444)\n",
      "  (0.44444444, 0.44444444) (0.55555556, 0.44444444)\n",
      "  (0.66666667, 0.44444444) (0.77777778, 0.44444444)\n",
      "  (0.88888889, 0.44444444) (1.        , 0.44444444)]\n",
      " [(0.        , 0.55555556) (0.11111111, 0.55555556)\n",
      "  (0.22222222, 0.55555556) (0.33333333, 0.55555556)\n",
      "  (0.44444444, 0.55555556) (0.55555556, 0.55555556)\n",
      "  (0.66666667, 0.55555556) (0.77777778, 0.55555556)\n",
      "  (0.88888889, 0.55555556) (1.        , 0.55555556)]\n",
      " [(0.        , 0.66666667) (0.11111111, 0.66666667)\n",
      "  (0.22222222, 0.66666667) (0.33333333, 0.66666667)\n",
      "  (0.44444444, 0.66666667) (0.55555556, 0.66666667)\n",
      "  (0.66666667, 0.66666667) (0.77777778, 0.66666667)\n",
      "  (0.88888889, 0.66666667) (1.        , 0.66666667)]\n",
      " [(0.        , 0.77777778) (0.11111111, 0.77777778)\n",
      "  (0.22222222, 0.77777778) (0.33333333, 0.77777778)\n",
      "  (0.44444444, 0.77777778) (0.55555556, 0.77777778)\n",
      "  (0.66666667, 0.77777778) (0.77777778, 0.77777778)\n",
      "  (0.88888889, 0.77777778) (1.        , 0.77777778)]\n",
      " [(0.        , 0.88888889) (0.11111111, 0.88888889)\n",
      "  (0.22222222, 0.88888889) (0.33333333, 0.88888889)\n",
      "  (0.44444444, 0.88888889) (0.55555556, 0.88888889)\n",
      "  (0.66666667, 0.88888889) (0.77777778, 0.88888889)\n",
      "  (0.88888889, 0.88888889) (1.        , 0.88888889)]\n",
      " [(0.        , 1.        ) (0.11111111, 1.        )\n",
      "  (0.22222222, 1.        ) (0.33333333, 1.        )\n",
      "  (0.44444444, 1.        ) (0.55555556, 1.        )\n",
      "  (0.66666667, 1.        ) (0.77777778, 1.        )\n",
      "  (0.88888889, 1.        ) (1.        , 1.        )]]\n"
     ]
    }
   ],
   "source": [
    "Z = np.zeros((10,10),[('x',float),('y',float)])\n",
    "Z['x'],Z['y'] = np.meshgrid(np.linspace(0,1,10),\n",
    "                            np.linspace(0,1,10))\n",
    "print(Z)"
   ]
  },
  {
   "cell_type": "markdown",
   "metadata": {
    "id": "-9j9r7Q2B9DJ"
   },
   "source": [
    "####  47. Given two arrays, X and Y, construct the Cauchy matrix C (Cij =1/(xi - yj)) \n",
    "(**hint**: np.subtract.outer)"
   ]
  },
  {
   "cell_type": "code",
   "execution_count": 19,
   "metadata": {
    "id": "tsJCS18XB9DK"
   },
   "outputs": [
    {
     "name": "stdout",
     "output_type": "stream",
     "text": [
      "-128\n",
      "127\n",
      "-2147483648\n",
      "2147483647\n",
      "-9223372036854775808\n",
      "9223372036854775807\n",
      "-3.4028235e+38\n",
      "3.4028235e+38\n",
      "1.1920929e-07\n",
      "-1.7976931348623157e+308\n",
      "1.7976931348623157e+308\n",
      "2.220446049250313e-16\n"
     ]
    }
   ],
   "source": [
    "for dtype in [np.int8, np.int32, np.int64]:\n",
    "    print(np.iinfo(dtype).min)\n",
    "    print(np.iinfo(dtype).max)\n",
    "for dtype in [np.float32, np.float64]:\n",
    "    print(np.finfo(dtype).min)\n",
    "    print(np.finfo(dtype).max)\n",
    "    print(np.finfo(dtype).eps)"
   ]
  },
  {
   "cell_type": "markdown",
   "metadata": {
    "id": "J_niiaEaB9DL"
   },
   "source": [
    "#### 48. Print the minimum and maximum representable value for each numpy scalar type (★★☆) \n",
    "(**hint**: np.iinfo, np.finfo, eps)"
   ]
  },
  {
   "cell_type": "code",
   "execution_count": null,
   "metadata": {
    "id": "y3jcJgaIB9DL"
   },
   "outputs": [],
   "source": []
  },
  {
   "cell_type": "markdown",
   "metadata": {
    "id": "Ddz7ix84B9DM"
   },
   "source": [
    "#### 49. How to print all the values of an array? (★★☆) \n",
    "(**hint**: np.set\\_printoptions)"
   ]
  },
  {
   "cell_type": "code",
   "execution_count": 20,
   "metadata": {
    "id": "Soq0VkaoB9DN"
   },
   "outputs": [
    {
     "name": "stdout",
     "output_type": "stream",
     "text": [
      "[[0. 0. 0. 0. 0. 0. 0. 0. 0. 0. 0. 0. 0. 0. 0. 0. 0. 0. 0. 0. 0. 0. 0. 0.\n",
      "  0.]\n",
      " [0. 0. 0. 0. 0. 0. 0. 0. 0. 0. 0. 0. 0. 0. 0. 0. 0. 0. 0. 0. 0. 0. 0. 0.\n",
      "  0.]\n",
      " [0. 0. 0. 0. 0. 0. 0. 0. 0. 0. 0. 0. 0. 0. 0. 0. 0. 0. 0. 0. 0. 0. 0. 0.\n",
      "  0.]\n",
      " [0. 0. 0. 0. 0. 0. 0. 0. 0. 0. 0. 0. 0. 0. 0. 0. 0. 0. 0. 0. 0. 0. 0. 0.\n",
      "  0.]\n",
      " [0. 0. 0. 0. 0. 0. 0. 0. 0. 0. 0. 0. 0. 0. 0. 0. 0. 0. 0. 0. 0. 0. 0. 0.\n",
      "  0.]\n",
      " [0. 0. 0. 0. 0. 0. 0. 0. 0. 0. 0. 0. 0. 0. 0. 0. 0. 0. 0. 0. 0. 0. 0. 0.\n",
      "  0.]\n",
      " [0. 0. 0. 0. 0. 0. 0. 0. 0. 0. 0. 0. 0. 0. 0. 0. 0. 0. 0. 0. 0. 0. 0. 0.\n",
      "  0.]\n",
      " [0. 0. 0. 0. 0. 0. 0. 0. 0. 0. 0. 0. 0. 0. 0. 0. 0. 0. 0. 0. 0. 0. 0. 0.\n",
      "  0.]\n",
      " [0. 0. 0. 0. 0. 0. 0. 0. 0. 0. 0. 0. 0. 0. 0. 0. 0. 0. 0. 0. 0. 0. 0. 0.\n",
      "  0.]\n",
      " [0. 0. 0. 0. 0. 0. 0. 0. 0. 0. 0. 0. 0. 0. 0. 0. 0. 0. 0. 0. 0. 0. 0. 0.\n",
      "  0.]\n",
      " [0. 0. 0. 0. 0. 0. 0. 0. 0. 0. 0. 0. 0. 0. 0. 0. 0. 0. 0. 0. 0. 0. 0. 0.\n",
      "  0.]\n",
      " [0. 0. 0. 0. 0. 0. 0. 0. 0. 0. 0. 0. 0. 0. 0. 0. 0. 0. 0. 0. 0. 0. 0. 0.\n",
      "  0.]\n",
      " [0. 0. 0. 0. 0. 0. 0. 0. 0. 0. 0. 0. 0. 0. 0. 0. 0. 0. 0. 0. 0. 0. 0. 0.\n",
      "  0.]\n",
      " [0. 0. 0. 0. 0. 0. 0. 0. 0. 0. 0. 0. 0. 0. 0. 0. 0. 0. 0. 0. 0. 0. 0. 0.\n",
      "  0.]\n",
      " [0. 0. 0. 0. 0. 0. 0. 0. 0. 0. 0. 0. 0. 0. 0. 0. 0. 0. 0. 0. 0. 0. 0. 0.\n",
      "  0.]\n",
      " [0. 0. 0. 0. 0. 0. 0. 0. 0. 0. 0. 0. 0. 0. 0. 0. 0. 0. 0. 0. 0. 0. 0. 0.\n",
      "  0.]\n",
      " [0. 0. 0. 0. 0. 0. 0. 0. 0. 0. 0. 0. 0. 0. 0. 0. 0. 0. 0. 0. 0. 0. 0. 0.\n",
      "  0.]\n",
      " [0. 0. 0. 0. 0. 0. 0. 0. 0. 0. 0. 0. 0. 0. 0. 0. 0. 0. 0. 0. 0. 0. 0. 0.\n",
      "  0.]\n",
      " [0. 0. 0. 0. 0. 0. 0. 0. 0. 0. 0. 0. 0. 0. 0. 0. 0. 0. 0. 0. 0. 0. 0. 0.\n",
      "  0.]\n",
      " [0. 0. 0. 0. 0. 0. 0. 0. 0. 0. 0. 0. 0. 0. 0. 0. 0. 0. 0. 0. 0. 0. 0. 0.\n",
      "  0.]\n",
      " [0. 0. 0. 0. 0. 0. 0. 0. 0. 0. 0. 0. 0. 0. 0. 0. 0. 0. 0. 0. 0. 0. 0. 0.\n",
      "  0.]\n",
      " [0. 0. 0. 0. 0. 0. 0. 0. 0. 0. 0. 0. 0. 0. 0. 0. 0. 0. 0. 0. 0. 0. 0. 0.\n",
      "  0.]\n",
      " [0. 0. 0. 0. 0. 0. 0. 0. 0. 0. 0. 0. 0. 0. 0. 0. 0. 0. 0. 0. 0. 0. 0. 0.\n",
      "  0.]\n",
      " [0. 0. 0. 0. 0. 0. 0. 0. 0. 0. 0. 0. 0. 0. 0. 0. 0. 0. 0. 0. 0. 0. 0. 0.\n",
      "  0.]\n",
      " [0. 0. 0. 0. 0. 0. 0. 0. 0. 0. 0. 0. 0. 0. 0. 0. 0. 0. 0. 0. 0. 0. 0. 0.\n",
      "  0.]]\n"
     ]
    }
   ],
   "source": [
    "np.set_printoptions()\n",
    "Z = np.zeros((25,25))\n",
    "print(Z)"
   ]
  },
  {
   "cell_type": "markdown",
   "metadata": {
    "id": "ai3XCoivB9DO"
   },
   "source": [
    "#### 50. How to find the closest value (to a given scalar) in a vector? (★★☆) \n",
    "(**hint**: argmin)"
   ]
  },
  {
   "cell_type": "code",
   "execution_count": 29,
   "metadata": {
    "id": "zJe-Qh_TB9DP"
   },
   "outputs": [
    {
     "name": "stdout",
     "output_type": "stream",
     "text": [
      "14\n"
     ]
    }
   ],
   "source": [
    "Z = np.arange(100)\n",
    "V = np.random.uniform(0,100)\n",
    "index = (np.abs(Z-V)).argmin()\n",
    "print(Z[index])"
   ]
  },
  {
   "cell_type": "markdown",
   "metadata": {
    "id": "FMudCJATB9DP"
   },
   "source": [
    "#### 51. Create a structured array representing a position (x,y) and a color (r,g,b) (★★☆) \n",
    "(**hint**: dtype)"
   ]
  },
  {
   "cell_type": "code",
   "execution_count": 30,
   "metadata": {
    "id": "RZOWYMtoB9DQ"
   },
   "outputs": [
    {
     "name": "stdout",
     "output_type": "stream",
     "text": [
      "[((0., 0.), (0., 0., 0.)) ((0., 0.), (0., 0., 0.))\n",
      " ((0., 0.), (0., 0., 0.)) ((0., 0.), (0., 0., 0.))\n",
      " ((0., 0.), (0., 0., 0.)) ((0., 0.), (0., 0., 0.))\n",
      " ((0., 0.), (0., 0., 0.)) ((0., 0.), (0., 0., 0.))\n",
      " ((0., 0.), (0., 0., 0.)) ((0., 0.), (0., 0., 0.))]\n"
     ]
    },
    {
     "name": "stderr",
     "output_type": "stream",
     "text": [
      "C:\\Users\\kirankumar\\AppData\\Local\\Temp\\ipykernel_6716\\1567790755.py:1: FutureWarning: Passing (type, 1) or '1type' as a synonym of type is deprecated; in a future version of numpy, it will be understood as (type, (1,)) / '(1,)type'.\n",
      "  Z = np.zeros(10,[('position' , [('x',float, 1),\n"
     ]
    }
   ],
   "source": [
    "Z = np.zeros(10,[('position' , [('x',float, 1),\n",
    "                                ('y',float, 1)]),\n",
    "                 ('color',     [('r',float, 1),\n",
    "                                ('g',float, 1),\n",
    "                                ('b',float, 1)])])\n",
    "print(Z)"
   ]
  },
  {
   "cell_type": "markdown",
   "metadata": {
    "id": "9BfsNqwYB9DR"
   },
   "source": [
    "#### 52. Consider a random vector with shape (100,2) representing coordinates, find point by point distances (★★☆) \n",
    "(**hint**: np.atleast\\_2d, T, np.sqrt)"
   ]
  },
  {
   "cell_type": "code",
   "execution_count": 21,
   "metadata": {
    "id": "impqutxOB9DW"
   },
   "outputs": [
    {
     "name": "stdout",
     "output_type": "stream",
     "text": [
      "[[0.         0.21018327 0.72538583 ... 0.28639051 0.77411471 0.26315167]\n",
      " [0.21018327 0.         0.92580998 ... 0.47915762 0.94965045 0.44202394]\n",
      " [0.72538583 0.92580998 0.         ... 0.44750712 0.2338245  0.49218924]\n",
      " ...\n",
      " [0.28639051 0.47915762 0.44750712 ... 0.         0.49074379 0.05918177]\n",
      " [0.77411471 0.94965045 0.2338245  ... 0.49074379 0.         0.51233639]\n",
      " [0.26315167 0.44202394 0.49218924 ... 0.05918177 0.51233639 0.        ]]\n",
      "[[0.         0.21893547 0.42152688 0.32925061 0.53053448 0.52669467\n",
      "  0.25540771 0.3380109  0.33016539 0.48869404]\n",
      " [0.21893547 0.         0.49432372 0.54464788 0.74627712 0.72875909\n",
      "  0.37003486 0.43244106 0.54863855 0.54480534]\n",
      " [0.42152688 0.49432372 0.         0.56761973 0.71023712 0.46402461\n",
      "  0.1701589  0.75270094 0.48513209 0.07160358]\n",
      " [0.32925061 0.54464788 0.56761973 0.         0.20164861 0.34746932\n",
      "  0.42032474 0.36858103 0.10373922 0.63753871]\n",
      " [0.53053448 0.74627712 0.71023712 0.20164861 0.         0.34852578\n",
      "  0.58628298 0.51524993 0.2333891  0.77517894]\n",
      " [0.52669467 0.72875909 0.46402461 0.34746932 0.34852578 0.\n",
      "  0.41578737 0.7049529  0.25312378 0.51219412]\n",
      " [0.25540771 0.37003486 0.1701589  0.42032474 0.58628298 0.41578737\n",
      "  0.         0.58280579 0.35318564 0.24062021]\n",
      " [0.3380109  0.43244106 0.75270094 0.36858103 0.51524993 0.7049529\n",
      "  0.58280579 0.         0.45208546 0.82206928]\n",
      " [0.33016539 0.54863855 0.48513209 0.10373922 0.2333891  0.25312378\n",
      "  0.35318564 0.45208546 0.         0.55292899]\n",
      " [0.48869404 0.54480534 0.07160358 0.63753871 0.77517894 0.51219412\n",
      "  0.24062021 0.82206928 0.55292899 0.        ]]\n"
     ]
    }
   ],
   "source": [
    "Z = np.random.random((100,2))\n",
    "X,Y = np.atleast_2d(Z[:,0]),np.atleast_2d(Z[:,1])\n",
    "D = np.sqrt((X-X.T)**2+(Y-Y.T)**2)\n",
    "print(D)\n",
    "\n",
    "import scipy\n",
    "import scipy.spatial\n",
    "\n",
    "Z = np.random.random((10,2))\n",
    "D = scipy.spatial.distance.cdist(Z,Z)\n",
    "print(D)"
   ]
  },
  {
   "cell_type": "markdown",
   "metadata": {
    "id": "70ANT7WvB9DX"
   },
   "source": [
    "#### 53. How to convert a float (32 bits) array into an integer (32 bits) in place? \n",
    "(**hint**: astype(copy=False))"
   ]
  },
  {
   "cell_type": "code",
   "execution_count": 23,
   "metadata": {
    "id": "u2bKSGh1B9DX"
   },
   "outputs": [
    {
     "name": "stdout",
     "output_type": "stream",
     "text": [
      "[2. 1. 2. 3. 4. 5. 6. 7. 8. 9.]\n"
     ]
    }
   ],
   "source": [
    "Z = np.arange(10, dtype=np.float32)\n",
    "Z_1 = Z.astype(np.float32,copy = False)\n",
    "Z_1[0] = 2\n",
    "print(Z)"
   ]
  },
  {
   "cell_type": "markdown",
   "metadata": {
    "id": "fCU-5HYiB9DY"
   },
   "source": [
    "#### 54. How to read the following file? (★★☆) \n",
    "(**hint**: np.genfromtxt)"
   ]
  },
  {
   "cell_type": "markdown",
   "metadata": {
    "id": "vZQVt4MkB9DY"
   },
   "source": [
    "```\n",
    "1, 2, 3, 4, 5\n",
    "6,  ,  , 7, 8\n",
    " ,  , 9,10,11\n",
    "```"
   ]
  },
  {
   "cell_type": "code",
   "execution_count": null,
   "metadata": {},
   "outputs": [],
   "source": [
    "z = np.genfromtxt(\"missing.dat\", delimiter=\",\")\n",
    "z"
   ]
  },
  {
   "cell_type": "markdown",
   "metadata": {
    "id": "ukS6q4OFB9DZ"
   },
   "source": [
    "#### 55. What is the equivalent of enumerate for numpy arrays? (★★☆) \n",
    "(**hint**: np.ndenumerate, np.ndindex)"
   ]
  },
  {
   "cell_type": "code",
   "execution_count": 5,
   "metadata": {
    "id": "y6IHfE3qB9DZ"
   },
   "outputs": [
    {
     "name": "stdout",
     "output_type": "stream",
     "text": [
      "(0, 0) 0\n",
      "(0, 1) 1\n",
      "(0, 2) 2\n",
      "(1, 0) 3\n",
      "(1, 1) 4\n",
      "(1, 2) 5\n",
      "(2, 0) 6\n",
      "(2, 1) 7\n",
      "(2, 2) 8\n",
      "(0, 0) 0\n",
      "(0, 1) 1\n",
      "(0, 2) 2\n",
      "(1, 0) 3\n",
      "(1, 1) 4\n",
      "(1, 2) 5\n",
      "(2, 0) 6\n",
      "(2, 1) 7\n",
      "(2, 2) 8\n"
     ]
    }
   ],
   "source": [
    "Z = np.arange(9).reshape(3,3)\n",
    "for index, value in np.ndenumerate(Z):\n",
    "    print(index, value)\n",
    "for index in np.ndindex(Z.shape):\n",
    "    print(index,Z[index])"
   ]
  },
  {
   "cell_type": "markdown",
   "metadata": {
    "id": "YCYzj012B9Da"
   },
   "source": [
    "#### 56. Generate a generic 2D Gaussian-like array (★★☆) \n",
    "(**hint**: np.meshgrid, np.exp)"
   ]
  },
  {
   "cell_type": "code",
   "execution_count": 6,
   "metadata": {
    "id": "QCIPYBlfB9Da"
   },
   "outputs": [
    {
     "name": "stdout",
     "output_type": "stream",
     "text": [
      "[[0.36787944 0.44822088 0.51979489 0.57375342 0.60279818 0.60279818\n",
      "  0.57375342 0.51979489 0.44822088 0.36787944]\n",
      " [0.44822088 0.54610814 0.63331324 0.69905581 0.73444367 0.73444367\n",
      "  0.69905581 0.63331324 0.54610814 0.44822088]\n",
      " [0.51979489 0.63331324 0.73444367 0.81068432 0.85172308 0.85172308\n",
      "  0.81068432 0.73444367 0.63331324 0.51979489]\n",
      " [0.57375342 0.69905581 0.81068432 0.89483932 0.9401382  0.9401382\n",
      "  0.89483932 0.81068432 0.69905581 0.57375342]\n",
      " [0.60279818 0.73444367 0.85172308 0.9401382  0.98773022 0.98773022\n",
      "  0.9401382  0.85172308 0.73444367 0.60279818]\n",
      " [0.60279818 0.73444367 0.85172308 0.9401382  0.98773022 0.98773022\n",
      "  0.9401382  0.85172308 0.73444367 0.60279818]\n",
      " [0.57375342 0.69905581 0.81068432 0.89483932 0.9401382  0.9401382\n",
      "  0.89483932 0.81068432 0.69905581 0.57375342]\n",
      " [0.51979489 0.63331324 0.73444367 0.81068432 0.85172308 0.85172308\n",
      "  0.81068432 0.73444367 0.63331324 0.51979489]\n",
      " [0.44822088 0.54610814 0.63331324 0.69905581 0.73444367 0.73444367\n",
      "  0.69905581 0.63331324 0.54610814 0.44822088]\n",
      " [0.36787944 0.44822088 0.51979489 0.57375342 0.60279818 0.60279818\n",
      "  0.57375342 0.51979489 0.44822088 0.36787944]]\n"
     ]
    }
   ],
   "source": [
    "X, Y = np.meshgrid(np.linspace(-1,1,10), np.linspace(-1,1,10))\n",
    "D = np.sqrt(X*X+Y*Y)\n",
    "sigma, mu = 1.0, 0.0\n",
    "G = np.exp(-((D-mu)**2/(2.0*sigma**2)))\n",
    "print(G)"
   ]
  },
  {
   "cell_type": "markdown",
   "metadata": {
    "id": "HvlHdR60B9Da"
   },
   "source": [
    "#### 57. How to randomly place p elements in a 2D array? (★★☆) \n",
    "(**hint**: np.put, np.random.choice)"
   ]
  },
  {
   "cell_type": "code",
   "execution_count": 8,
   "metadata": {
    "id": "2IvywQ-6B9Db"
   },
   "outputs": [
    {
     "name": "stdout",
     "output_type": "stream",
     "text": [
      "[[0. 0. 0. 0. 0. 0. 0. 0. 0. 0.]\n",
      " [0. 0. 0. 0. 0. 1. 0. 0. 0. 0.]\n",
      " [0. 0. 0. 0. 0. 0. 0. 0. 0. 0.]\n",
      " [0. 0. 0. 0. 0. 0. 0. 1. 0. 0.]\n",
      " [0. 0. 0. 0. 0. 0. 0. 0. 0. 0.]\n",
      " [0. 0. 0. 0. 0. 0. 0. 0. 0. 0.]\n",
      " [0. 0. 0. 0. 0. 0. 0. 0. 0. 0.]\n",
      " [0. 0. 0. 0. 0. 0. 0. 0. 0. 0.]\n",
      " [0. 0. 0. 0. 0. 0. 0. 0. 0. 0.]\n",
      " [0. 0. 0. 1. 0. 0. 0. 0. 0. 0.]]\n"
     ]
    }
   ],
   "source": [
    "n= 10\n",
    "p=3\n",
    "Z=np.zeros((n,n))\n",
    "np.put(Z,np.random.choice(range(n*n),p,replace=False),1)\n",
    "print(Z)"
   ]
  },
  {
   "cell_type": "markdown",
   "metadata": {
    "id": "gr5Ltan9B9Db"
   },
   "source": [
    "#### 58. Subtract the mean of each row of a matrix (★★☆) \n",
    "(**hint**: mean(axis=,keepdims=))"
   ]
  },
  {
   "cell_type": "code",
   "execution_count": 9,
   "metadata": {
    "id": "od98VhJVB9Dc"
   },
   "outputs": [
    {
     "data": {
      "text/plain": [
       "array([[-0.0628908 ,  0.356456  , -0.04676494,  0.3276116 ,  0.22314523,\n",
       "         0.07003763, -0.45703553, -0.0932033 , -0.22773919, -0.0896167 ],\n",
       "       [ 0.50873965,  0.2626681 , -0.0775212 , -0.30086595,  0.11776743,\n",
       "        -0.27740815,  0.47569657, -0.41027437,  0.01272228, -0.31152436],\n",
       "       [ 0.1458052 ,  0.16761064, -0.13203761, -0.3272767 , -0.20104667,\n",
       "         0.29805458, -0.11008927,  0.20513998, -0.4299687 ,  0.38380857],\n",
       "       [-0.16376117,  0.07831031, -0.27764423, -0.47764386,  0.36801258,\n",
       "        -0.41552578,  0.48405751,  0.16377871, -0.19555499,  0.43597092],\n",
       "       [ 0.14679921,  0.06361218,  0.21329183, -0.35017091,  0.34449991,\n",
       "         0.23416597, -0.40362972, -0.29377108, -0.28929137,  0.33449399]])"
      ]
     },
     "execution_count": 9,
     "metadata": {},
     "output_type": "execute_result"
    }
   ],
   "source": [
    "X = np.random.rand(5, 10)\n",
    "Y = X - X.mean(axis=1, keepdims=True)\n",
    "Y = X - X.mean(axis=1).reshape(-1,1)\n",
    "Y"
   ]
  },
  {
   "cell_type": "markdown",
   "metadata": {
    "id": "1aEh6E-7B9Dc"
   },
   "source": [
    "#### 59. How to sort an array by the nth column? (★★☆) \n",
    "(**hint**: argsort)"
   ]
  },
  {
   "cell_type": "code",
   "execution_count": 10,
   "metadata": {
    "id": "3-Ia0VnUB9Dc"
   },
   "outputs": [
    {
     "name": "stdout",
     "output_type": "stream",
     "text": [
      "[[7 6 8]\n",
      " [5 8 9]\n",
      " [6 7 8]]\n",
      "[[7 6 8]\n",
      " [6 7 8]\n",
      " [5 8 9]]\n"
     ]
    }
   ],
   "source": [
    "Z = np.random.randint(0,10,(3,3))\n",
    "print(Z)\n",
    "print(Z[Z[:,1].argsort()])"
   ]
  },
  {
   "cell_type": "markdown",
   "metadata": {
    "id": "CDbTGgkkB9Dd"
   },
   "source": [
    "#### 60. How to tell if a given 2D array has null columns? (★★☆) \n",
    "(**hint**: any, ~)"
   ]
  },
  {
   "cell_type": "code",
   "execution_count": 11,
   "metadata": {
    "id": "DVIeX2JXB9Dd"
   },
   "outputs": [
    {
     "name": "stdout",
     "output_type": "stream",
     "text": [
      "False\n"
     ]
    }
   ],
   "source": [
    "Z = np.random.randint(0,3,(3,10))\n",
    "print((~Z.any(axis=0)).any())"
   ]
  },
  {
   "cell_type": "markdown",
   "metadata": {
    "id": "gW12MJb9B9Dd"
   },
   "source": [
    "#### 61. Find the nearest value from a given value in an array (★★☆) \n",
    "(**hint**: np.abs, argmin, flat)"
   ]
  },
  {
   "cell_type": "code",
   "execution_count": 17,
   "metadata": {
    "id": "ciHBUko8B9De"
   },
   "outputs": [
    {
     "name": "stdout",
     "output_type": "stream",
     "text": [
      "1\n",
      "2\n"
     ]
    }
   ],
   "source": [
    "arr=np.array([8,7,1,5,3,4])\n",
    "difarr=np.absolute(arr-2)\n",
    "index=difarr.argmin()\n",
    "print(arr[index])\n",
    "print(index)"
   ]
  },
  {
   "cell_type": "markdown",
   "metadata": {
    "id": "Du90SZNYB9De"
   },
   "source": [
    "#### 62. Considering two arrays with shape (1,3) and (3,1), how to compute their sum using an iterator? (★★☆) \n",
    "(**hint**: np.nditer)"
   ]
  },
  {
   "cell_type": "code",
   "execution_count": 18,
   "metadata": {
    "id": "fXJFu5q9B9Dg"
   },
   "outputs": [
    {
     "name": "stdout",
     "output_type": "stream",
     "text": [
      "[[0 1 2]\n",
      " [1 2 3]\n",
      " [2 3 4]]\n"
     ]
    }
   ],
   "source": [
    "A = np.arange(3).reshape(3,1)\n",
    "B = np.arange(3).reshape(1,3)\n",
    "it = np.nditer([A,B,None])\n",
    "for x,y,z in it: z[...] = x + y\n",
    "print(it.operands[2])"
   ]
  },
  {
   "cell_type": "markdown",
   "metadata": {
    "id": "EZ-pLaxFB9Di"
   },
   "source": [
    "#### 63. Create an array class that has a name attribute (★★☆) \n",
    "(**hint**: class method)"
   ]
  },
  {
   "cell_type": "code",
   "execution_count": 19,
   "metadata": {
    "id": "6pu1kMgnB9Dj"
   },
   "outputs": [
    {
     "name": "stdout",
     "output_type": "stream",
     "text": [
      "range_10\n"
     ]
    }
   ],
   "source": [
    "class NamedArray(np.ndarray):\n",
    "    def __new__(cls, array, name=\"no name\"):\n",
    "        obj = np.asarray(array).view(cls)\n",
    "        obj.name = name\n",
    "        return obj\n",
    "    def __array_finalize__(self, obj):\n",
    "        if obj is None: return\n",
    "        self.info = getattr(obj, 'name', \"no name\")\n",
    "\n",
    "Z = NamedArray(np.arange(10), \"range_10\")\n",
    "print (Z.name)"
   ]
  },
  {
   "cell_type": "markdown",
   "metadata": {
    "id": "ZukYAntGB9Dm"
   },
   "source": [
    "#### 64. Consider a given vector, how to add 1 to each element indexed by a second vector (be careful with repeated indices)? (★★★) \n",
    "(**hint**: np.bincount | np.add.at)"
   ]
  },
  {
   "cell_type": "code",
   "execution_count": 20,
   "metadata": {
    "id": "svftO28wB9Dn"
   },
   "outputs": [
    {
     "name": "stdout",
     "output_type": "stream",
     "text": [
      "[3. 3. 3. 1. 3. 2. 1. 5. 4. 5.]\n",
      "[5. 5. 5. 1. 5. 3. 1. 9. 7. 9.]\n"
     ]
    }
   ],
   "source": [
    "Z = np.ones(10)\n",
    "I = np.random.randint(0,len(Z),20)\n",
    "Z += np.bincount(I, minlength=len(Z))\n",
    "print(Z)\n",
    "np.add.at(Z, I, 1)\n",
    "print(Z)"
   ]
  },
  {
   "cell_type": "markdown",
   "metadata": {
    "id": "Jdlknv7sB9Do"
   },
   "source": [
    "#### 65. How to accumulate elements of a vector (X) to an array (F) based on an index list (I)? (★★★) \n",
    "(**hint**: np.bincount)"
   ]
  },
  {
   "cell_type": "code",
   "execution_count": 12,
   "metadata": {
    "id": "wvXOjsR1B9Do"
   },
   "outputs": [
    {
     "name": "stdout",
     "output_type": "stream",
     "text": [
      "[0. 7. 0. 6. 5. 0. 0. 0. 0. 3.]\n"
     ]
    }
   ],
   "source": [
    "X = [1,2,3,4,5,6]\n",
    "I = [1,3,9,3,4,1]\n",
    "F = np.bincount(I,X)\n",
    "print(F)"
   ]
  },
  {
   "cell_type": "markdown",
   "metadata": {
    "id": "dQIUbtcdB9Do"
   },
   "source": [
    "#### 66. Considering a (w,h,3) image of (dtype=ubyte), compute the number of unique colors (★★★) \n",
    "(**hint**: np.unique)"
   ]
  },
  {
   "cell_type": "code",
   "execution_count": 21,
   "metadata": {
    "id": "yBrHp25tB9Dp"
   },
   "outputs": [
    {
     "name": "stdout",
     "output_type": "stream",
     "text": [
      "64\n"
     ]
    }
   ],
   "source": [
    "w, h = 256, 256\n",
    "I = np.random.randint(0, 4, (h, w, 3)).astype(np.ubyte)\n",
    "colors = np.unique(I.reshape(-1, 3), axis=0)\n",
    "n = len(colors)\n",
    "print(n)"
   ]
  },
  {
   "cell_type": "markdown",
   "metadata": {
    "id": "fdj8MEv4B9Dp"
   },
   "source": [
    "#### 67. Considering a four dimensions array, how to get sum over the last two axis at once? (★★★) \n",
    "(**hint**: sum(axis=(-2,-1)))"
   ]
  },
  {
   "cell_type": "code",
   "execution_count": 22,
   "metadata": {
    "id": "WdVCdmo7B9Dq"
   },
   "outputs": [
    {
     "name": "stdout",
     "output_type": "stream",
     "text": [
      "[[41 46 49 59]\n",
      " [53 42 42 38]\n",
      " [49 56 64 57]]\n",
      "[[41 46 49 59]\n",
      " [53 42 42 38]\n",
      " [49 56 64 57]]\n"
     ]
    }
   ],
   "source": [
    "A = np.random.randint(0,10,(3,4,3,4)) \n",
    "sum = A.sum(axis=(-2,-1))\n",
    "print(sum)\n",
    "sum = A.reshape(A.shape[:-2] + (-1,)).sum(axis=-1)\n",
    "print(sum)"
   ]
  },
  {
   "cell_type": "markdown",
   "metadata": {
    "id": "ECHq7jHPB9Dq"
   },
   "source": [
    "#### 68. Considering a one-dimensional vector D, how to compute means of subsets of D using a vector S of same size describing subset  indices? (★★★) \n",
    "(**hint**: np.bincount)"
   ]
  },
  {
   "cell_type": "code",
   "execution_count": 23,
   "metadata": {
    "id": "M8rbqEalB9Dq"
   },
   "outputs": [
    {
     "name": "stdout",
     "output_type": "stream",
     "text": [
      "[0.41396803 0.51441456 0.48435353 0.54000851 0.51180563 0.52723544\n",
      " 0.5228203  0.46656859 0.5235735  0.51500629]\n",
      "0    0.413968\n",
      "1    0.514415\n",
      "2    0.484354\n",
      "3    0.540009\n",
      "4    0.511806\n",
      "5    0.527235\n",
      "6    0.522820\n",
      "7    0.466569\n",
      "8    0.523573\n",
      "9    0.515006\n",
      "dtype: float64\n"
     ]
    }
   ],
   "source": [
    "D = np.random.uniform(0,1,100)\n",
    "S = np.random.randint(0,10,100)\n",
    "D_sums = np.bincount(S, weights=D)\n",
    "D_counts = np.bincount(S)\n",
    "D_means = D_sums / D_counts\n",
    "print(D_means)\n",
    "import pandas as pd\n",
    "print(pd.Series(D).groupby(S).mean())"
   ]
  },
  {
   "cell_type": "markdown",
   "metadata": {
    "id": "_9Vs6QcfB9Dr"
   },
   "source": [
    "#### 69. How to get the diagonal of a dot product? (★★★) \n",
    "(**hint**: np.diag)"
   ]
  },
  {
   "cell_type": "code",
   "execution_count": 24,
   "metadata": {
    "id": "c6jKg7FnB9Dr"
   },
   "outputs": [
    {
     "data": {
      "text/plain": [
       "array([0.94933432, 0.75814698, 1.54641789, 0.94554248, 0.54221462])"
      ]
     },
     "execution_count": 24,
     "metadata": {},
     "output_type": "execute_result"
    }
   ],
   "source": [
    "A = np.random.uniform(0,1,(5,5))\n",
    "B = np.random.uniform(0,1,(5,5))\n",
    "\n",
    "# Slow version\n",
    "np.diag(np.dot(A, B))\n",
    "\n",
    "# Fast version\n",
    "np.sum(A * B.T, axis=1)\n",
    "\n",
    "# Faster version\n",
    "np.einsum(\"ij,ji->i\", A, B)"
   ]
  },
  {
   "cell_type": "markdown",
   "metadata": {
    "id": "WUTVfwT6B9Ds"
   },
   "source": [
    "#### 70. Consider the vector \\[1, 2, 3, 4, 5\\], how to build a new vector with 3 consecutive zeros interleaved between each value? (★★★) \n",
    "(**hint**: array\\[::4\\])"
   ]
  },
  {
   "cell_type": "code",
   "execution_count": 25,
   "metadata": {
    "id": "LKOdnYAlB9Ds"
   },
   "outputs": [
    {
     "name": "stdout",
     "output_type": "stream",
     "text": [
      "[1. 0. 0. 0. 2. 0. 0. 0. 3. 0. 0. 0. 4. 0. 0. 0. 5.]\n"
     ]
    }
   ],
   "source": [
    "Z = np.array([1,2,3,4,5])\n",
    "nz = 3\n",
    "Z0 = np.zeros(len(Z) + (len(Z)-1)*(nz))\n",
    "Z0[::nz+1] = Z\n",
    "print(Z0)"
   ]
  },
  {
   "cell_type": "markdown",
   "metadata": {
    "id": "srXBIEYVB9Ds"
   },
   "source": [
    "#### 71. Consider an array of dimension (5,5,3), how to mulitply it by an array with dimensions (5,5)? (★★★) \n",
    "(**hint**: array\\[:, :, None\\])"
   ]
  },
  {
   "cell_type": "code",
   "execution_count": 26,
   "metadata": {
    "id": "KrzR-ALHB9Dt"
   },
   "outputs": [
    {
     "name": "stdout",
     "output_type": "stream",
     "text": [
      "[[[2. 2. 2.]\n",
      "  [2. 2. 2.]\n",
      "  [2. 2. 2.]\n",
      "  [2. 2. 2.]\n",
      "  [2. 2. 2.]]\n",
      "\n",
      " [[2. 2. 2.]\n",
      "  [2. 2. 2.]\n",
      "  [2. 2. 2.]\n",
      "  [2. 2. 2.]\n",
      "  [2. 2. 2.]]\n",
      "\n",
      " [[2. 2. 2.]\n",
      "  [2. 2. 2.]\n",
      "  [2. 2. 2.]\n",
      "  [2. 2. 2.]\n",
      "  [2. 2. 2.]]\n",
      "\n",
      " [[2. 2. 2.]\n",
      "  [2. 2. 2.]\n",
      "  [2. 2. 2.]\n",
      "  [2. 2. 2.]\n",
      "  [2. 2. 2.]]\n",
      "\n",
      " [[2. 2. 2.]\n",
      "  [2. 2. 2.]\n",
      "  [2. 2. 2.]\n",
      "  [2. 2. 2.]\n",
      "  [2. 2. 2.]]]\n"
     ]
    }
   ],
   "source": [
    "A = np.ones((5,5,3))\n",
    "B = 2*np.ones((5,5))\n",
    "print(A * B[:,:,None])"
   ]
  },
  {
   "cell_type": "markdown",
   "metadata": {
    "id": "k3_W9ittB9Dt"
   },
   "source": [
    "#### 72. How to swap two rows of an array? (★★★) \n",
    "(**hint**: array\\[\\[\\]\\] = array\\[\\[\\]\\])"
   ]
  },
  {
   "cell_type": "code",
   "execution_count": 27,
   "metadata": {
    "id": "v2ohXt9yB9Du"
   },
   "outputs": [
    {
     "name": "stdout",
     "output_type": "stream",
     "text": [
      "[[ 5  6  7  8  9]\n",
      " [ 0  1  2  3  4]\n",
      " [10 11 12 13 14]\n",
      " [15 16 17 18 19]\n",
      " [20 21 22 23 24]]\n"
     ]
    }
   ],
   "source": [
    "A = np.arange(25).reshape(5,5)\n",
    "A[[0,1]] = A[[1,0]]\n",
    "print(A)"
   ]
  },
  {
   "cell_type": "markdown",
   "metadata": {
    "id": "Hbo2ms9eB9Dy"
   },
   "source": [
    "#### 73. Consider a set of 10 triplets describing 10 triangles (with shared vertices), find the set of unique line segments composing all the  triangles (★★★) \n",
    "(**hint**: repeat, np.roll, np.sort, view, np.unique)"
   ]
  },
  {
   "cell_type": "code",
   "execution_count": 28,
   "metadata": {
    "id": "g7OwED-qB9Dz"
   },
   "outputs": [
    {
     "name": "stdout",
     "output_type": "stream",
     "text": [
      "[( 6,  9) ( 6, 81) ( 9, 81) (11, 42) (11, 58) (11, 94) (15, 47) (15, 91)\n",
      " (17, 43) (17, 66) (20, 29) (20, 77) (28, 53) (28, 96) (29, 77) (39, 40)\n",
      " (39, 67) (40, 67) (42, 62) (42, 89) (42, 94) (43, 66) (47, 91) (53, 96)\n",
      " (58, 94) (62, 89) (70, 78) (70, 91) (78, 91)]\n"
     ]
    }
   ],
   "source": [
    "faces = np.random.randint(0,100,(10,3))\n",
    "F = np.roll(faces.repeat(2,axis=1),-1,axis=1)\n",
    "F = F.reshape(len(F)*3,2)\n",
    "F = np.sort(F,axis=1)\n",
    "G = F.view( dtype=[('p0',F.dtype),('p1',F.dtype)] )\n",
    "G = np.unique(G)\n",
    "print(G)"
   ]
  },
  {
   "cell_type": "markdown",
   "metadata": {
    "id": "s1R9us98B9D1"
   },
   "source": [
    "#### 74. Given an array C that is a bincount, how to produce an array A such that np.bincount(A) == C? (★★★) \n",
    "(**hint**: np.repeat)"
   ]
  },
  {
   "cell_type": "code",
   "execution_count": 29,
   "metadata": {
    "id": "di4ckVluB9D2"
   },
   "outputs": [
    {
     "name": "stdout",
     "output_type": "stream",
     "text": [
      "[1 1 2 3 4 4 6]\n"
     ]
    }
   ],
   "source": [
    "C = np.bincount([1,1,2,3,4,4,6])\n",
    "A = np.repeat(np.arange(len(C)), C)\n",
    "print(A)"
   ]
  },
  {
   "cell_type": "markdown",
   "metadata": {
    "id": "GZWlk3i0B9D3"
   },
   "source": [
    "#### 75. How to compute averages using a sliding window over an array? (★★★) \n",
    "(**hint**: np.cumsum)"
   ]
  },
  {
   "cell_type": "code",
   "execution_count": 30,
   "metadata": {
    "id": "h_81aLXUB9D4"
   },
   "outputs": [
    {
     "name": "stdout",
     "output_type": "stream",
     "text": [
      "[[0 1 2]\n",
      " [1 2 3]\n",
      " [2 3 4]\n",
      " [3 4 5]\n",
      " [4 5 6]\n",
      " [5 6 7]\n",
      " [6 7 8]\n",
      " [7 8 9]]\n"
     ]
    },
    {
     "ename": "NameError",
     "evalue": "name 'sliding_window_view' is not defined",
     "output_type": "error",
     "traceback": [
      "\u001b[1;31m---------------------------------------------------------------------------\u001b[0m",
      "\u001b[1;31mNameError\u001b[0m                                 Traceback (most recent call last)",
      "Input \u001b[1;32mIn [30]\u001b[0m, in \u001b[0;36m<cell line: 11>\u001b[1;34m()\u001b[0m\n\u001b[0;32m      8\u001b[0m \u001b[38;5;28mprint\u001b[39m(Z)\n\u001b[0;32m     10\u001b[0m Z \u001b[38;5;241m=\u001b[39m np\u001b[38;5;241m.\u001b[39marange(\u001b[38;5;241m10\u001b[39m)\n\u001b[1;32m---> 11\u001b[0m \u001b[38;5;28mprint\u001b[39m(\u001b[43msliding_window_view\u001b[49m(Z, window_shape\u001b[38;5;241m=\u001b[39m\u001b[38;5;241m3\u001b[39m))\n",
      "\u001b[1;31mNameError\u001b[0m: name 'sliding_window_view' is not defined"
     ]
    }
   ],
   "source": [
    "from numpy.lib import stride_tricks\n",
    "\n",
    "def rolling(a, window):\n",
    "    shape = (a.size - window + 1, window)\n",
    "    strides = (a.strides[0], a.strides[0])\n",
    "    return stride_tricks.as_strided(a, shape=shape, strides=strides)\n",
    "Z = rolling(np.arange(10), 3)\n",
    "print(Z)\n",
    "\n",
    "Z = np.arange(10)\n",
    "print(sliding_window_view(Z, window_shape=3))"
   ]
  },
  {
   "cell_type": "markdown",
   "metadata": {
    "id": "1daFHkblB9D5"
   },
   "source": [
    "#### 76. Consider a one-dimensional array Z, build a two-dimensional array whose first row is (Z\\[0\\],Z\\[1\\],Z\\[2\\]) and each subsequent row is  shifted by 1 (last row should be (Z\\[-3\\],Z\\[-2\\],Z\\[-1\\]) (★★★) \n",
    "(**hint**: from numpy.lib import stride_tricks)"
   ]
  },
  {
   "cell_type": "code",
   "execution_count": 31,
   "metadata": {
    "id": "uKzGQ8ILB9D5"
   },
   "outputs": [
    {
     "data": {
      "text/plain": [
       "array([ 0.26954652,  0.48474398,  0.01995385,  0.19613734, -0.02025583,\n",
       "       -0.24816954,  0.65767626, -0.12096168, -0.08088763, -0.03786494,\n",
       "       -0.11317126,  0.04425869, -0.5049441 ,  0.30065638,  0.8574023 ,\n",
       "       -0.64026045, -0.9597222 ,  0.39662628, -0.01715849, -0.23606461,\n",
       "       -0.01287111, -0.40059556, -0.25254352, -0.33551145,  0.66957939,\n",
       "        0.0772588 , -0.78563308,  0.01465847, -0.7672645 , -0.53236189,\n",
       "       -0.38557975, -0.45133734,  0.57570764,  0.76259189, -0.67913766,\n",
       "        0.6406469 , -0.94119857, -0.37046865, -0.21157736,  0.75309902,\n",
       "        0.7506227 ,  0.67487017, -0.24849156, -0.0848435 , -0.11026359,\n",
       "       -0.74748456, -0.08479411,  0.83606936, -0.98947297,  0.86015725,\n",
       "        0.62864097,  0.47666634, -0.99855284,  0.73708464, -0.99465098,\n",
       "       -0.55435762,  0.08291806, -0.29725643,  0.10552007,  0.39980615,\n",
       "       -0.64678606, -0.93245215, -0.06051545, -0.66365787, -0.1058071 ,\n",
       "        0.38588395, -0.79296896,  0.7835582 ,  0.63858543, -0.62745223,\n",
       "        0.27204862, -0.83957466,  0.93333187,  0.47222724,  0.12246529,\n",
       "       -0.42202397, -0.90555718,  0.84498791, -0.40674372,  0.36239896,\n",
       "        0.93892719,  0.73652758, -0.4193507 ,  0.70831759,  0.62537545,\n",
       "       -0.25474704,  0.22847289, -0.36305049,  0.29618056,  0.82731035,\n",
       "        0.14589159, -0.59475865,  0.57201692, -0.86928529,  0.61435859,\n",
       "        0.56639379, -0.74137095,  0.1945937 , -0.79652896, -0.2326424 ])"
      ]
     },
     "execution_count": 31,
     "metadata": {},
     "output_type": "execute_result"
    }
   ],
   "source": [
    "Z = np.random.randint(0,2,100)\n",
    "np.logical_not(Z, out=Z)\n",
    "\n",
    "Z = np.random.uniform(-1.0,1.0,100)\n",
    "np.negative(Z, out=Z)"
   ]
  },
  {
   "cell_type": "markdown",
   "metadata": {
    "id": "iJ6sNFpTB9D5"
   },
   "source": [
    "#### 77. How to negate a boolean, or to change the sign of a float inplace? (★★★) \n",
    "(**hint**: np.logical_not, np.negative)"
   ]
  },
  {
   "cell_type": "code",
   "execution_count": 32,
   "metadata": {
    "id": "blqrsJZ8B9D6"
   },
   "outputs": [
    {
     "data": {
      "text/plain": [
       "array([-0.33520019,  0.54302935,  0.63861331, -0.62585168, -0.14442085,\n",
       "        0.15383103,  0.81952984, -0.28688355, -0.32167539, -0.40919191,\n",
       "        0.54878555, -0.65266705,  0.15015299,  0.31261355,  0.76500167,\n",
       "        0.7367953 , -0.03060957,  0.21169524,  0.47957789,  0.23549762,\n",
       "        0.36863346,  0.29883136,  0.54452752, -0.07658949,  0.94948505,\n",
       "       -0.25244209, -0.11106731, -0.13672608,  0.73385613, -0.02263721,\n",
       "        0.01356813, -0.66960567, -0.72950191,  0.28097802, -0.94976876,\n",
       "       -0.54904471,  0.35141027, -0.79495871, -0.87117174, -0.57752148,\n",
       "        0.57447453,  0.9667273 ,  0.30113914, -0.59351969, -0.76219461,\n",
       "       -0.85127846, -0.10382074,  0.4362428 ,  0.93531814, -0.29335054,\n",
       "       -0.23638935, -0.37540687,  0.72269278, -0.88403672,  0.58361055,\n",
       "       -0.54760737,  0.46448   , -0.42858351,  0.81120701,  0.54165956,\n",
       "        0.50368598, -0.98491605,  0.71040436, -0.96736718, -0.38458033,\n",
       "       -0.29020686, -0.25565916,  0.15919992,  0.02861864,  0.97368344,\n",
       "        0.67101218,  0.70440032,  0.5107112 , -0.18610938,  0.68223268,\n",
       "       -0.14335107, -0.24571344, -0.4086594 ,  0.91342356, -0.31375203,\n",
       "       -0.33842103,  0.4829709 , -0.81292966, -0.98030257, -0.10942198,\n",
       "        0.80159467,  0.56054491, -0.77680505,  0.94805795,  0.48989709,\n",
       "       -0.44090416,  0.65253057,  0.45588981,  0.41069749, -0.68288283,\n",
       "        0.31116141,  0.28763244, -0.26994593, -0.39133857,  0.55102047])"
      ]
     },
     "execution_count": 32,
     "metadata": {},
     "output_type": "execute_result"
    }
   ],
   "source": [
    "Z = np.random.randint(0,2,100)\n",
    "np.logical_not(Z, out=Z)\n",
    "\n",
    "Z = np.random.uniform(-1.0,1.0,100)\n",
    "np.negative(Z, out=Z)"
   ]
  },
  {
   "cell_type": "markdown",
   "metadata": {
    "id": "jgBfVe3xB9D6"
   },
   "source": [
    "#### 78. Consider 2 sets of points P0,P1 describing lines (2d) and a point p, how to compute distance from p to each line i  (P0\\[i\\],P1\\[i\\])? (★★★)"
   ]
  },
  {
   "cell_type": "code",
   "execution_count": 33,
   "metadata": {
    "id": "zZ1CmXfpB9D7"
   },
   "outputs": [
    {
     "name": "stdout",
     "output_type": "stream",
     "text": [
      "[2.24924989 4.68914198 0.03836156 7.2907446  6.02892841 2.71171572\n",
      " 5.50582315 3.90792144 2.38603692 3.03009793]\n"
     ]
    }
   ],
   "source": [
    "def distance(P0, P1, p):\n",
    "    T = P1 - P0\n",
    "    L = (T**2).sum(axis=1)\n",
    "    U = -((P0[:,0]-p[...,0])*T[:,0] + (P0[:,1]-p[...,1])*T[:,1]) / L\n",
    "    U = U.reshape(len(U),1)\n",
    "    D = P0 + U*T - p\n",
    "    return np.sqrt((D**2).sum(axis=1))\n",
    "\n",
    "P0 = np.random.uniform(-10,10,(10,2))\n",
    "P1 = np.random.uniform(-10,10,(10,2))\n",
    "p  = np.random.uniform(-10,10,( 1,2))\n",
    "print(distance(P0, P1, p))"
   ]
  },
  {
   "cell_type": "markdown",
   "metadata": {
    "id": "jA4-JO9GB9D8"
   },
   "source": [
    "#### 79. Consider 2 sets of points P0,P1 describing lines (2d) and a set of points P, how to compute distance from each point j (P\\[j\\]) to each line i (P0\\[i\\],P1\\[i\\])? (★★★)"
   ]
  },
  {
   "cell_type": "code",
   "execution_count": 34,
   "metadata": {
    "id": "fU0yfaArB9D9"
   },
   "outputs": [
    {
     "name": "stdout",
     "output_type": "stream",
     "text": [
      "[[1.66445976e+00 5.40701311e-01 2.77574739e+00 1.11095592e+00\n",
      "  6.53915736e+00 5.83728186e+00 8.29592658e-01 1.29967508e+01\n",
      "  3.24092319e+00 8.04134003e-01]\n",
      " [1.58275668e+00 5.93361575e-01 3.23481499e+00 1.64035255e+00\n",
      "  7.14755952e+00 6.38808424e+00 2.61797394e-01 1.33550117e+01\n",
      "  3.77151932e+00 1.31130269e+00]\n",
      " [1.55479598e+01 1.20440235e+01 1.39021658e+01 2.15569206e+00\n",
      "  2.69757019e+00 9.75182804e+00 6.35404896e+00 3.68939806e+00\n",
      "  8.89782594e-02 1.55010432e+01]\n",
      " [8.55745696e+00 5.88139419e+00 6.61590546e+00 2.08170498e+00\n",
      "  2.47339734e-01 3.31597020e+00 5.22054736e+00 3.91153932e+00\n",
      "  1.43105314e-02 8.55731546e+00]\n",
      " [5.63477898e+00 3.11667174e+00 4.13385749e+00 2.84840694e+00\n",
      "  6.12357077e-01 1.34291094e+00 5.58353518e+00 6.68283464e+00\n",
      "  7.41434009e-01 6.29711151e+00]\n",
      " [4.72481107e+00 9.46350378e-01 7.28805487e+00 8.63803743e+00\n",
      "  5.30226576e+00 5.72341494e+00 1.15206970e+01 4.71604544e+00\n",
      "  6.53665403e+00 1.00676084e+01]\n",
      " [2.52010781e+00 3.36359488e+00 6.49172429e+00 2.42619642e-01\n",
      "  7.31089605e+00 8.86863904e+00 1.10861671e+00 1.70815111e+01\n",
      "  2.38864726e+00 4.22509853e+00]\n",
      " [1.47303508e+01 1.16818480e+01 1.19745924e+01 6.26961487e-01\n",
      "  7.02337860e-01 7.63129946e+00 4.62657657e+00 2.02552150e+00\n",
      "  1.44564432e+00 1.34636780e+01]\n",
      " [1.76187403e+01 1.55455134e+01 1.10347872e+01 4.92649538e+00\n",
      "  4.14508629e+00 5.26591514e+00 7.63958210e-01 2.31963369e+00\n",
      "  6.99604887e+00 1.18318497e+01]\n",
      " [1.63533849e+01 1.42641292e+01 1.02133392e+01 4.23673504e+00\n",
      "  3.91452604e+00 4.73366509e+00 2.31370767e-01 1.30222079e+00\n",
      "  6.31045225e+00 1.11417230e+01]]\n"
     ]
    }
   ],
   "source": [
    "P0 = np.random.uniform(-10, 10, (10,2))\n",
    "P1 = np.random.uniform(-10,10,(10,2))\n",
    "p = np.random.uniform(-10, 10, (10,2))\n",
    "print(np.array([distance(P0,P1,p_i) for p_i in p]))"
   ]
  },
  {
   "cell_type": "markdown",
   "metadata": {
    "id": "KGVJOpdIB9D9"
   },
   "source": [
    "#### 80. Consider an arbitrary array, write a function that extract a subpart with a fixed shape and centered on a given element (pad with a `fill` value when necessary) (★★★) \n",
    "(**hint**: minimum, maximum)"
   ]
  },
  {
   "cell_type": "code",
   "execution_count": null,
   "metadata": {
    "id": "FvAWn15OB9D-"
   },
   "outputs": [],
   "source": []
  },
  {
   "cell_type": "markdown",
   "metadata": {
    "id": "TTHLFWAPB9D-"
   },
   "source": [
    "#### 81. Consider an array Z = \\[1,2,3,4,5,6,7,8,9,10,11,12,13,14\\], how to generate an array R = \\[\\[1,2,3,4\\], \\[2,3,4,5\\], \\[3,4,5,6\\], ..., \\[11,12,13,14\\]\\]? (★★★) \n",
    "(**hint**: stride\\_tricks.as\\_strided)"
   ]
  },
  {
   "cell_type": "code",
   "execution_count": 35,
   "metadata": {
    "id": "u2nn6BiQB9D_"
   },
   "outputs": [
    {
     "name": "stdout",
     "output_type": "stream",
     "text": [
      "[[ 1  2  3  4]\n",
      " [ 2  3  4  5]\n",
      " [ 3  4  5  6]\n",
      " [ 4  5  6  7]\n",
      " [ 5  6  7  8]\n",
      " [ 6  7  8  9]\n",
      " [ 7  8  9 10]\n",
      " [ 8  9 10 11]\n",
      " [ 9 10 11 12]\n",
      " [10 11 12 13]\n",
      " [11 12 13 14]]\n"
     ]
    },
    {
     "ename": "NameError",
     "evalue": "name 'sliding_window_view' is not defined",
     "output_type": "error",
     "traceback": [
      "\u001b[1;31m---------------------------------------------------------------------------\u001b[0m",
      "\u001b[1;31mNameError\u001b[0m                                 Traceback (most recent call last)",
      "Input \u001b[1;32mIn [35]\u001b[0m, in \u001b[0;36m<cell line: 5>\u001b[1;34m()\u001b[0m\n\u001b[0;32m      3\u001b[0m \u001b[38;5;28mprint\u001b[39m(R)\n\u001b[0;32m      4\u001b[0m Z \u001b[38;5;241m=\u001b[39m np\u001b[38;5;241m.\u001b[39marange(\u001b[38;5;241m1\u001b[39m, \u001b[38;5;241m15\u001b[39m, dtype\u001b[38;5;241m=\u001b[39mnp\u001b[38;5;241m.\u001b[39muint32)\n\u001b[1;32m----> 5\u001b[0m \u001b[38;5;28mprint\u001b[39m(\u001b[43msliding_window_view\u001b[49m(Z, window_shape\u001b[38;5;241m=\u001b[39m\u001b[38;5;241m4\u001b[39m))\n",
      "\u001b[1;31mNameError\u001b[0m: name 'sliding_window_view' is not defined"
     ]
    }
   ],
   "source": [
    "Z = np.arange(1,15,dtype=np.uint32)\n",
    "R = stride_tricks.as_strided(Z,(11,4),(4,4))\n",
    "print(R)\n",
    "Z = np.arange(1, 15, dtype=np.uint32)\n",
    "print(sliding_window_view(Z, window_shape=4))"
   ]
  },
  {
   "cell_type": "markdown",
   "metadata": {
    "id": "Nyc9RXNZB9EA"
   },
   "source": [
    "#### 82. Compute a matrix rank (★★★) \n",
    "(**hint**: np.linalg.svd) (suggestion: np.linalg.svd)"
   ]
  },
  {
   "cell_type": "code",
   "execution_count": 36,
   "metadata": {
    "id": "SM7-rBoOB9EB"
   },
   "outputs": [
    {
     "name": "stdout",
     "output_type": "stream",
     "text": [
      "10\n",
      "10\n"
     ]
    }
   ],
   "source": [
    "Z = np.random.uniform(0,1,(10,10))\n",
    "U, S, V = np.linalg.svd(Z) # Singular Value Decomposition\n",
    "rank = np.sum(S > 1e-10)\n",
    "print(rank)\n",
    "\n",
    "rank = np.linalg.matrix_rank(Z)\n",
    "print(rank)"
   ]
  },
  {
   "cell_type": "markdown",
   "metadata": {
    "id": "3GU_d3jVB9EC"
   },
   "source": [
    "#### 83. How to find the most frequent value in an array? \n",
    "(**hint**: np.bincount, argmax)"
   ]
  },
  {
   "cell_type": "code",
   "execution_count": 37,
   "metadata": {
    "id": "fhheHDdrB9ED"
   },
   "outputs": [
    {
     "name": "stdout",
     "output_type": "stream",
     "text": [
      "2\n"
     ]
    }
   ],
   "source": [
    "Z = np.random.randint(0,10,50)\n",
    "print(np.bincount(Z).argmax())"
   ]
  },
  {
   "cell_type": "markdown",
   "metadata": {
    "id": "QygFsl9aB9ED"
   },
   "source": [
    "#### 84. Extract all the contiguous 3x3 blocks from a random 10x10 matrix (★★★) \n",
    "(**hint**: stride\\_tricks.as\\_strided)"
   ]
  },
  {
   "cell_type": "code",
   "execution_count": 38,
   "metadata": {
    "id": "v9iD9G5TB9EE"
   },
   "outputs": [
    {
     "name": "stdout",
     "output_type": "stream",
     "text": [
      "[[[[3 2 4]\n",
      "   [2 2 0]\n",
      "   [2 2 3]]\n",
      "\n",
      "  [[2 4 0]\n",
      "   [2 0 4]\n",
      "   [2 3 2]]\n",
      "\n",
      "  [[4 0 3]\n",
      "   [0 4 1]\n",
      "   [3 2 3]]\n",
      "\n",
      "  [[0 3 1]\n",
      "   [4 1 3]\n",
      "   [2 3 0]]\n",
      "\n",
      "  [[3 1 1]\n",
      "   [1 3 0]\n",
      "   [3 0 1]]\n",
      "\n",
      "  [[1 1 0]\n",
      "   [3 0 1]\n",
      "   [0 1 0]]\n",
      "\n",
      "  [[1 0 2]\n",
      "   [0 1 1]\n",
      "   [1 0 2]]\n",
      "\n",
      "  [[0 2 4]\n",
      "   [1 1 4]\n",
      "   [0 2 4]]]\n",
      "\n",
      "\n",
      " [[[2 2 0]\n",
      "   [2 2 3]\n",
      "   [0 1 2]]\n",
      "\n",
      "  [[2 0 4]\n",
      "   [2 3 2]\n",
      "   [1 2 0]]\n",
      "\n",
      "  [[0 4 1]\n",
      "   [3 2 3]\n",
      "   [2 0 3]]\n",
      "\n",
      "  [[4 1 3]\n",
      "   [2 3 0]\n",
      "   [0 3 4]]\n",
      "\n",
      "  [[1 3 0]\n",
      "   [3 0 1]\n",
      "   [3 4 4]]\n",
      "\n",
      "  [[3 0 1]\n",
      "   [0 1 0]\n",
      "   [4 4 4]]\n",
      "\n",
      "  [[0 1 1]\n",
      "   [1 0 2]\n",
      "   [4 4 1]]\n",
      "\n",
      "  [[1 1 4]\n",
      "   [0 2 4]\n",
      "   [4 1 3]]]\n",
      "\n",
      "\n",
      " [[[2 2 3]\n",
      "   [0 1 2]\n",
      "   [0 3 1]]\n",
      "\n",
      "  [[2 3 2]\n",
      "   [1 2 0]\n",
      "   [3 1 1]]\n",
      "\n",
      "  [[3 2 3]\n",
      "   [2 0 3]\n",
      "   [1 1 4]]\n",
      "\n",
      "  [[2 3 0]\n",
      "   [0 3 4]\n",
      "   [1 4 1]]\n",
      "\n",
      "  [[3 0 1]\n",
      "   [3 4 4]\n",
      "   [4 1 3]]\n",
      "\n",
      "  [[0 1 0]\n",
      "   [4 4 4]\n",
      "   [1 3 4]]\n",
      "\n",
      "  [[1 0 2]\n",
      "   [4 4 1]\n",
      "   [3 4 4]]\n",
      "\n",
      "  [[0 2 4]\n",
      "   [4 1 3]\n",
      "   [4 4 4]]]\n",
      "\n",
      "\n",
      " [[[0 1 2]\n",
      "   [0 3 1]\n",
      "   [4 4 4]]\n",
      "\n",
      "  [[1 2 0]\n",
      "   [3 1 1]\n",
      "   [4 4 0]]\n",
      "\n",
      "  [[2 0 3]\n",
      "   [1 1 4]\n",
      "   [4 0 0]]\n",
      "\n",
      "  [[0 3 4]\n",
      "   [1 4 1]\n",
      "   [0 0 2]]\n",
      "\n",
      "  [[3 4 4]\n",
      "   [4 1 3]\n",
      "   [0 2 1]]\n",
      "\n",
      "  [[4 4 4]\n",
      "   [1 3 4]\n",
      "   [2 1 3]]\n",
      "\n",
      "  [[4 4 1]\n",
      "   [3 4 4]\n",
      "   [1 3 2]]\n",
      "\n",
      "  [[4 1 3]\n",
      "   [4 4 4]\n",
      "   [3 2 3]]]\n",
      "\n",
      "\n",
      " [[[0 3 1]\n",
      "   [4 4 4]\n",
      "   [0 1 3]]\n",
      "\n",
      "  [[3 1 1]\n",
      "   [4 4 0]\n",
      "   [1 3 3]]\n",
      "\n",
      "  [[1 1 4]\n",
      "   [4 0 0]\n",
      "   [3 3 1]]\n",
      "\n",
      "  [[1 4 1]\n",
      "   [0 0 2]\n",
      "   [3 1 4]]\n",
      "\n",
      "  [[4 1 3]\n",
      "   [0 2 1]\n",
      "   [1 4 3]]\n",
      "\n",
      "  [[1 3 4]\n",
      "   [2 1 3]\n",
      "   [4 3 1]]\n",
      "\n",
      "  [[3 4 4]\n",
      "   [1 3 2]\n",
      "   [3 1 3]]\n",
      "\n",
      "  [[4 4 4]\n",
      "   [3 2 3]\n",
      "   [1 3 0]]]\n",
      "\n",
      "\n",
      " [[[4 4 4]\n",
      "   [0 1 3]\n",
      "   [4 4 0]]\n",
      "\n",
      "  [[4 4 0]\n",
      "   [1 3 3]\n",
      "   [4 0 0]]\n",
      "\n",
      "  [[4 0 0]\n",
      "   [3 3 1]\n",
      "   [0 0 0]]\n",
      "\n",
      "  [[0 0 2]\n",
      "   [3 1 4]\n",
      "   [0 0 0]]\n",
      "\n",
      "  [[0 2 1]\n",
      "   [1 4 3]\n",
      "   [0 0 0]]\n",
      "\n",
      "  [[2 1 3]\n",
      "   [4 3 1]\n",
      "   [0 0 4]]\n",
      "\n",
      "  [[1 3 2]\n",
      "   [3 1 3]\n",
      "   [0 4 1]]\n",
      "\n",
      "  [[3 2 3]\n",
      "   [1 3 0]\n",
      "   [4 1 4]]]\n",
      "\n",
      "\n",
      " [[[0 1 3]\n",
      "   [4 4 0]\n",
      "   [1 0 1]]\n",
      "\n",
      "  [[1 3 3]\n",
      "   [4 0 0]\n",
      "   [0 1 1]]\n",
      "\n",
      "  [[3 3 1]\n",
      "   [0 0 0]\n",
      "   [1 1 1]]\n",
      "\n",
      "  [[3 1 4]\n",
      "   [0 0 0]\n",
      "   [1 1 1]]\n",
      "\n",
      "  [[1 4 3]\n",
      "   [0 0 0]\n",
      "   [1 1 0]]\n",
      "\n",
      "  [[4 3 1]\n",
      "   [0 0 4]\n",
      "   [1 0 3]]\n",
      "\n",
      "  [[3 1 3]\n",
      "   [0 4 1]\n",
      "   [0 3 3]]\n",
      "\n",
      "  [[1 3 0]\n",
      "   [4 1 4]\n",
      "   [3 3 4]]]\n",
      "\n",
      "\n",
      " [[[4 4 0]\n",
      "   [1 0 1]\n",
      "   [1 2 4]]\n",
      "\n",
      "  [[4 0 0]\n",
      "   [0 1 1]\n",
      "   [2 4 0]]\n",
      "\n",
      "  [[0 0 0]\n",
      "   [1 1 1]\n",
      "   [4 0 1]]\n",
      "\n",
      "  [[0 0 0]\n",
      "   [1 1 1]\n",
      "   [0 1 4]]\n",
      "\n",
      "  [[0 0 0]\n",
      "   [1 1 0]\n",
      "   [1 4 4]]\n",
      "\n",
      "  [[0 0 4]\n",
      "   [1 0 3]\n",
      "   [4 4 4]]\n",
      "\n",
      "  [[0 4 1]\n",
      "   [0 3 3]\n",
      "   [4 4 4]]\n",
      "\n",
      "  [[4 1 4]\n",
      "   [3 3 4]\n",
      "   [4 4 0]]]]\n"
     ]
    },
    {
     "ename": "NameError",
     "evalue": "name 'sliding_window_view' is not defined",
     "output_type": "error",
     "traceback": [
      "\u001b[1;31m---------------------------------------------------------------------------\u001b[0m",
      "\u001b[1;31mNameError\u001b[0m                                 Traceback (most recent call last)",
      "Input \u001b[1;32mIn [38]\u001b[0m, in \u001b[0;36m<cell line: 8>\u001b[1;34m()\u001b[0m\n\u001b[0;32m      6\u001b[0m \u001b[38;5;28mprint\u001b[39m(C)\n\u001b[0;32m      7\u001b[0m Z \u001b[38;5;241m=\u001b[39m np\u001b[38;5;241m.\u001b[39mrandom\u001b[38;5;241m.\u001b[39mrandint(\u001b[38;5;241m0\u001b[39m,\u001b[38;5;241m5\u001b[39m,(\u001b[38;5;241m10\u001b[39m,\u001b[38;5;241m10\u001b[39m))\n\u001b[1;32m----> 8\u001b[0m \u001b[38;5;28mprint\u001b[39m(\u001b[43msliding_window_view\u001b[49m(Z, window_shape\u001b[38;5;241m=\u001b[39m(\u001b[38;5;241m3\u001b[39m, \u001b[38;5;241m3\u001b[39m)))\n",
      "\u001b[1;31mNameError\u001b[0m: name 'sliding_window_view' is not defined"
     ]
    }
   ],
   "source": [
    "Z = np.random.randint(0,5,(10,10))\n",
    "n = 3\n",
    "i = 1 + (Z.shape[0]-3)\n",
    "j = 1 + (Z.shape[1]-3)\n",
    "C = stride_tricks.as_strided(Z, shape=(i, j, n, n), strides=Z.strides + Z.strides)\n",
    "print(C)\n",
    "Z = np.random.randint(0,5,(10,10))\n",
    "print(sliding_window_view(Z, window_shape=(3, 3)))"
   ]
  },
  {
   "cell_type": "markdown",
   "metadata": {
    "id": "uyVPubsVB9EH"
   },
   "source": [
    "#### 85. Create a 2D array subclass such that Z\\[i,j\\] == Z\\[j,i\\] (★★★) \n",
    "(**hint**: class method)"
   ]
  },
  {
   "cell_type": "code",
   "execution_count": 39,
   "metadata": {
    "id": "YoiHDz7cB9EL"
   },
   "outputs": [
    {
     "name": "stdout",
     "output_type": "stream",
     "text": [
      "[[ 5  7  8  0  9]\n",
      " [ 7  3  6 15  9]\n",
      " [ 8  6  0 42 15]\n",
      " [ 0 15 42  0 13]\n",
      " [ 9  9 15 13  6]]\n"
     ]
    }
   ],
   "source": [
    "class Symetric(np.ndarray):\n",
    "    def __setitem__(self, index, value):\n",
    "        i,j = index\n",
    "        super(Symetric, self).__setitem__((i,j), value)\n",
    "        super(Symetric, self).__setitem__((j,i), value)\n",
    "\n",
    "def symetric(Z):\n",
    "    return np.asarray(Z + Z.T - np.diag(Z.diagonal())).view(Symetric)\n",
    "\n",
    "S = symetric(np.random.randint(0,10,(5,5)))\n",
    "S[2,3] = 42\n",
    "print(S)"
   ]
  },
  {
   "cell_type": "markdown",
   "metadata": {
    "id": "bTpxb6OpB9EM"
   },
   "source": [
    "#### 86. Consider a set of p matrices wich shape (n,n) and a set of p vectors with shape (n,1). How to compute the sum of of the p matrix products at once? (result has shape (n,1)) (★★★) \n",
    "(**hint**: np.tensordot)"
   ]
  },
  {
   "cell_type": "code",
   "execution_count": 41,
   "metadata": {
    "id": "1sYnnLnSB9EN"
   },
   "outputs": [
    {
     "name": "stdout",
     "output_type": "stream",
     "text": [
      "[[200.]\n",
      " [200.]\n",
      " [200.]\n",
      " [200.]\n",
      " [200.]\n",
      " [200.]\n",
      " [200.]\n",
      " [200.]\n",
      " [200.]\n",
      " [200.]\n",
      " [200.]\n",
      " [200.]\n",
      " [200.]\n",
      " [200.]\n",
      " [200.]\n",
      " [200.]\n",
      " [200.]\n",
      " [200.]\n",
      " [200.]\n",
      " [200.]]\n"
     ]
    }
   ],
   "source": [
    "p, n = 10, 20\n",
    "M = np.ones((p,n,n))\n",
    "V = np.ones((p,n,1))\n",
    "S = np.tensordot(M, V, axes=[[0, 2], [0, 1]])\n",
    "print(S)"
   ]
  },
  {
   "cell_type": "markdown",
   "metadata": {
    "id": "Brn_LrhwB9EO"
   },
   "source": [
    "#### 87. Consider a 16x16 array, how to get the block-sum (block size is 4x4)? (★★★) \n",
    "(**hint**: np.add.reduceat)"
   ]
  },
  {
   "cell_type": "code",
   "execution_count": 42,
   "metadata": {
    "id": "B2LIILr-B9EO"
   },
   "outputs": [
    {
     "name": "stdout",
     "output_type": "stream",
     "text": [
      "[[16. 16. 16. 16.]\n",
      " [16. 16. 16. 16.]\n",
      " [16. 16. 16. 16.]\n",
      " [16. 16. 16. 16.]]\n"
     ]
    },
    {
     "ename": "AttributeError",
     "evalue": "module 'numpy.lib.stride_tricks' has no attribute 'sliding_window_view'",
     "output_type": "error",
     "traceback": [
      "\u001b[1;31m---------------------------------------------------------------------------\u001b[0m",
      "\u001b[1;31mAttributeError\u001b[0m                            Traceback (most recent call last)",
      "Input \u001b[1;32mIn [42]\u001b[0m, in \u001b[0;36m<cell line: 8>\u001b[1;34m()\u001b[0m\n\u001b[0;32m      6\u001b[0m Z \u001b[38;5;241m=\u001b[39m np\u001b[38;5;241m.\u001b[39mones((\u001b[38;5;241m16\u001b[39m,\u001b[38;5;241m16\u001b[39m))\n\u001b[0;32m      7\u001b[0m k \u001b[38;5;241m=\u001b[39m \u001b[38;5;241m4\u001b[39m\n\u001b[1;32m----> 8\u001b[0m windows \u001b[38;5;241m=\u001b[39m \u001b[43mnp\u001b[49m\u001b[38;5;241;43m.\u001b[39;49m\u001b[43mlib\u001b[49m\u001b[38;5;241;43m.\u001b[39;49m\u001b[43mstride_tricks\u001b[49m\u001b[38;5;241;43m.\u001b[39;49m\u001b[43msliding_window_view\u001b[49m(Z, (k, k))\n\u001b[0;32m      9\u001b[0m S \u001b[38;5;241m=\u001b[39m windows[::k, ::k, \u001b[38;5;241m.\u001b[39m\u001b[38;5;241m.\u001b[39m\u001b[38;5;241m.\u001b[39m]\u001b[38;5;241m.\u001b[39msum(axis\u001b[38;5;241m=\u001b[39m(\u001b[38;5;241m-\u001b[39m\u001b[38;5;241m2\u001b[39m, \u001b[38;5;241m-\u001b[39m\u001b[38;5;241m1\u001b[39m))\n\u001b[0;32m     10\u001b[0m Z \u001b[38;5;241m=\u001b[39m np\u001b[38;5;241m.\u001b[39mones((\u001b[38;5;241m16\u001b[39m, \u001b[38;5;241m16\u001b[39m))\n",
      "\u001b[1;31mAttributeError\u001b[0m: module 'numpy.lib.stride_tricks' has no attribute 'sliding_window_view'"
     ]
    }
   ],
   "source": [
    "Z = np.ones((16,16))\n",
    "k = 4\n",
    "S = np.add.reduceat(np.add.reduceat(Z, np.arange(0, Z.shape[0], k), axis=0),\n",
    "                                       np.arange(0, Z.shape[1], k), axis=1)\n",
    "print(S)\n",
    "Z = np.ones((16,16))\n",
    "k = 4\n",
    "windows = np.lib.stride_tricks.sliding_window_view(Z, (k, k))\n",
    "S = windows[::k, ::k, ...].sum(axis=(-2, -1))\n",
    "Z = np.ones((16, 16))\n",
    "k = 4\n",
    "print(sliding_window_view(Z, window_shape=(k, k))[::k, ::k].sum(axis=(-2, -1)))"
   ]
  },
  {
   "cell_type": "markdown",
   "metadata": {
    "id": "WrT-SvHZB9EO"
   },
   "source": [
    "#### 88. How to implement the Game of Life using numpy arrays? (★★★)"
   ]
  },
  {
   "cell_type": "code",
   "execution_count": 43,
   "metadata": {
    "id": "fLutnA7DB9EP"
   },
   "outputs": [
    {
     "name": "stdout",
     "output_type": "stream",
     "text": [
      "[[0 0 0 ... 0 0 0]\n",
      " [0 0 0 ... 1 0 0]\n",
      " [0 0 0 ... 1 1 0]\n",
      " ...\n",
      " [0 0 1 ... 0 0 0]\n",
      " [0 0 0 ... 0 0 0]\n",
      " [0 0 0 ... 0 0 0]]\n"
     ]
    }
   ],
   "source": [
    "def iterate(Z):\n",
    "    # Count neighbours\n",
    "    N = (Z[0:-2,0:-2] + Z[0:-2,1:-1] + Z[0:-2,2:] +\n",
    "         Z[1:-1,0:-2]                + Z[1:-1,2:] +\n",
    "         Z[2:  ,0:-2] + Z[2:  ,1:-1] + Z[2:  ,2:])\n",
    "\n",
    "    # Apply rules\n",
    "    birth = (N==3) & (Z[1:-1,1:-1]==0)\n",
    "    survive = ((N==2) | (N==3)) & (Z[1:-1,1:-1]==1)\n",
    "    Z[...] = 0\n",
    "    Z[1:-1,1:-1][birth | survive] = 1\n",
    "    return Z\n",
    "\n",
    "Z = np.random.randint(0,2,(50,50))\n",
    "for i in range(100): Z = iterate(Z)\n",
    "print(Z)"
   ]
  },
  {
   "cell_type": "markdown",
   "metadata": {
    "id": "lPUOw4bUB9EP"
   },
   "source": [
    "#### 89. How to get the n largest values of an array (★★★) \n",
    "(**hint**: np.argsort | np.argpartition)"
   ]
  },
  {
   "cell_type": "code",
   "execution_count": 44,
   "metadata": {
    "id": "eD09a9BcB9EQ"
   },
   "outputs": [
    {
     "name": "stdout",
     "output_type": "stream",
     "text": [
      "[9995 9996 9997 9998 9999]\n",
      "[9996 9997 9999 9995 9998]\n"
     ]
    }
   ],
   "source": [
    "Z = np.arange(10000)\n",
    "np.random.shuffle(Z)\n",
    "n = 5\n",
    "\n",
    "# Slow\n",
    "print (Z[np.argsort(Z)[-n:]])\n",
    "\n",
    "# Fast\n",
    "print (Z[np.argpartition(-Z,n)[:n]])"
   ]
  },
  {
   "cell_type": "markdown",
   "metadata": {
    "id": "rDjqlhxDB9EQ"
   },
   "source": [
    "#### 90. Given an arbitrary number of vectors, build the cartesian product (every combinations of every item) (★★★) \n",
    "(**hint**: np.indices)"
   ]
  },
  {
   "cell_type": "code",
   "execution_count": 45,
   "metadata": {
    "id": "n2w6yt6XB9EQ",
    "scrolled": true
   },
   "outputs": [
    {
     "name": "stdout",
     "output_type": "stream",
     "text": [
      "[[1 4 6]\n",
      " [1 4 7]\n",
      " [1 5 6]\n",
      " [1 5 7]\n",
      " [2 4 6]\n",
      " [2 4 7]\n",
      " [2 5 6]\n",
      " [2 5 7]\n",
      " [3 4 6]\n",
      " [3 4 7]\n",
      " [3 5 6]\n",
      " [3 5 7]]\n"
     ]
    }
   ],
   "source": [
    "def cartesian(arrays):\n",
    "    arrays = [np.asarray(a) for a in arrays]\n",
    "    shape = (len(x) for x in arrays)\n",
    "\n",
    "    ix = np.indices(shape, dtype=int)\n",
    "    ix = ix.reshape(len(arrays), -1).T\n",
    "\n",
    "    for n, arr in enumerate(arrays):\n",
    "        ix[:, n] = arrays[n][ix[:, n]]\n",
    "\n",
    "    return ix\n",
    "\n",
    "print (cartesian(([1, 2, 3], [4, 5], [6, 7])))"
   ]
  },
  {
   "cell_type": "markdown",
   "metadata": {
    "id": "soUX35FvB9ER"
   },
   "source": [
    "#### 91. How to create a record array from a regular array? (★★★) \n",
    "(**hint**: np.core.records.fromarrays)"
   ]
  },
  {
   "cell_type": "code",
   "execution_count": 46,
   "metadata": {
    "id": "JvedrCH9B9ER"
   },
   "outputs": [
    {
     "name": "stdout",
     "output_type": "stream",
     "text": [
      "[(b'Hello', 2.5, 3) (b'World', 3.6, 2)]\n"
     ]
    }
   ],
   "source": [
    "Z = np.array([(\"Hello\", 2.5, 3),\n",
    "              (\"World\", 3.6, 2)])\n",
    "R = np.core.records.fromarrays(Z.T,\n",
    "                               names='col1, col2, col3',\n",
    "                               formats = 'S8, f8, i8')\n",
    "print(R)"
   ]
  },
  {
   "cell_type": "markdown",
   "metadata": {
    "id": "aRODmv01B9ER"
   },
   "source": [
    "#### 92. Consider a large vector Z, compute Z to the power of 3 using 3 different methods (★★★) \n",
    "(**hint**: np.power, \\*, np.einsum)"
   ]
  },
  {
   "cell_type": "code",
   "execution_count": null,
   "metadata": {},
   "outputs": [],
   "source": []
  },
  {
   "cell_type": "markdown",
   "metadata": {
    "id": "ZJGfbP10B9ES"
   },
   "source": [
    "#### 93. Consider two arrays A and B of shape (8,3) and (2,2). How to find rows of A that contain elements of each row of B regardless of the order of the elements in B? (★★★) \n",
    "(**hint**: np.where)"
   ]
  },
  {
   "cell_type": "code",
   "execution_count": 49,
   "metadata": {
    "id": "M1yFhRrjB9ET"
   },
   "outputs": [
    {
     "name": "stdout",
     "output_type": "stream",
     "text": [
      "[0 1 2 4 5 6 7]\n"
     ]
    }
   ],
   "source": [
    "A = np.random.randint(0,5,(8,3))\n",
    "B = np.random.randint(0,5,(2,2))\n",
    "\n",
    "C = (A[..., np.newaxis, np.newaxis] == B)\n",
    "rows = np.where(C.any((3,1)).all(1))[0]\n",
    "print(rows)"
   ]
  },
  {
   "cell_type": "markdown",
   "metadata": {
    "id": "Jo_D3ejzB9ET"
   },
   "source": [
    "#### 94. Considering a 10x3 matrix, extract rows with unequal values (e.g. \\[2,2,3\\]) (★★★)"
   ]
  },
  {
   "cell_type": "code",
   "execution_count": 51,
   "metadata": {
    "id": "XDsuQ0RRB9ET"
   },
   "outputs": [
    {
     "name": "stdout",
     "output_type": "stream",
     "text": [
      "[[3 1 3]\n",
      " [0 4 1]\n",
      " [4 2 4]\n",
      " [3 1 1]\n",
      " [3 4 2]\n",
      " [3 4 0]\n",
      " [0 3 0]\n",
      " [0 4 0]\n",
      " [0 1 3]\n",
      " [1 2 2]]\n",
      "[[3 1 3]\n",
      " [0 4 1]\n",
      " [4 2 4]\n",
      " [3 1 1]\n",
      " [3 4 2]\n",
      " [3 4 0]\n",
      " [0 3 0]\n",
      " [0 4 0]\n",
      " [0 1 3]\n",
      " [1 2 2]]\n",
      "[[3 1 3]\n",
      " [0 4 1]\n",
      " [4 2 4]\n",
      " [3 1 1]\n",
      " [3 4 2]\n",
      " [3 4 0]\n",
      " [0 3 0]\n",
      " [0 4 0]\n",
      " [0 1 3]\n",
      " [1 2 2]]\n"
     ]
    }
   ],
   "source": [
    "Z = np.random.randint(0,5,(10,3))\n",
    "print(Z)\n",
    "# solution for arrays of all dtypes (including string arrays and record arrays)\n",
    "E = np.all(Z[:,1:] == Z[:,:-1], axis=1)\n",
    "U = Z[~E]\n",
    "print(U)\n",
    "# soluiton for numerical arrays only, will work for any number of columns in Z\n",
    "U = Z[Z.max(axis=1) != Z.min(axis=1),:]\n",
    "print(U)"
   ]
  },
  {
   "cell_type": "markdown",
   "metadata": {
    "id": "dPaJJcrJB9EU"
   },
   "source": [
    "#### 95. Convert a vector of ints into a matrix binary representation (★★★) \n",
    "(**hint**: np.unpackbits)"
   ]
  },
  {
   "cell_type": "code",
   "execution_count": 52,
   "metadata": {
    "id": "jXEB6VxmB9EU"
   },
   "outputs": [
    {
     "name": "stdout",
     "output_type": "stream",
     "text": [
      "[[0 0 0 0 0 0 0 0]\n",
      " [0 0 0 0 0 0 0 1]\n",
      " [0 0 0 0 0 0 1 0]\n",
      " [0 0 0 0 0 0 1 1]\n",
      " [0 0 0 0 1 1 1 1]\n",
      " [0 0 0 1 0 0 0 0]\n",
      " [0 0 1 0 0 0 0 0]\n",
      " [0 1 0 0 0 0 0 0]\n",
      " [1 0 0 0 0 0 0 0]]\n",
      "[[0 0 0 0 0 0 0 0]\n",
      " [0 0 0 0 0 0 0 1]\n",
      " [0 0 0 0 0 0 1 0]\n",
      " [0 0 0 0 0 0 1 1]\n",
      " [0 0 0 0 1 1 1 1]\n",
      " [0 0 0 1 0 0 0 0]\n",
      " [0 0 1 0 0 0 0 0]\n",
      " [0 1 0 0 0 0 0 0]\n",
      " [1 0 0 0 0 0 0 0]]\n"
     ]
    }
   ],
   "source": [
    "I = np.array([0, 1, 2, 3, 15, 16, 32, 64, 128])\n",
    "B = ((I.reshape(-1,1) & (2**np.arange(8))) != 0).astype(int)\n",
    "print(B[:,::-1])\n",
    "I = np.array([0, 1, 2, 3, 15, 16, 32, 64, 128], dtype=np.uint8)\n",
    "print(np.unpackbits(I[:, np.newaxis], axis=1))"
   ]
  },
  {
   "cell_type": "markdown",
   "metadata": {
    "id": "ss-VriXrB9EV"
   },
   "source": [
    "#### 96. Given a two dimensional array, how to extract unique rows? (★★★) \n",
    "(**hint**: np.ascontiguousarray)"
   ]
  },
  {
   "cell_type": "code",
   "execution_count": 53,
   "metadata": {
    "id": "gTC3AYqCB9EV"
   },
   "outputs": [
    {
     "name": "stdout",
     "output_type": "stream",
     "text": [
      "[[0 0 0]\n",
      " [0 0 1]\n",
      " [0 1 0]\n",
      " [1 1 0]]\n",
      "[[0 0 0]\n",
      " [0 0 1]\n",
      " [0 1 0]\n",
      " [1 1 0]]\n"
     ]
    }
   ],
   "source": [
    "Z = np.random.randint(0,2,(6,3))\n",
    "T = np.ascontiguousarray(Z).view(np.dtype((np.void, Z.dtype.itemsize * Z.shape[1])))\n",
    "_, idx = np.unique(T, return_index=True)\n",
    "uZ = Z[idx]\n",
    "print(uZ)\n",
    "uZ = np.unique(Z, axis=0)\n",
    "print(uZ)"
   ]
  },
  {
   "cell_type": "markdown",
   "metadata": {
    "id": "KsZWpN3CB9EW"
   },
   "source": [
    "#### 97. Considering 2 vectors A & B, write the einsum equivalent of inner, outer, sum, and mul function (★★★) \n",
    "(**hint**: np.einsum)"
   ]
  },
  {
   "cell_type": "code",
   "execution_count": 54,
   "metadata": {
    "id": "tLMrY9eRB9EY"
   },
   "outputs": [
    {
     "data": {
      "text/plain": [
       "array([[3.17511789e-02, 4.35585324e-01, 2.83755263e-02, 2.63629045e-01,\n",
       "        6.55059619e-01, 2.74773042e-01, 6.08670860e-02, 4.36855650e-01,\n",
       "        4.40323932e-01, 1.58476122e-01],\n",
       "       [4.34986771e-02, 5.96745885e-01, 3.88740796e-02, 3.61168155e-01,\n",
       "        8.97422642e-01, 3.76435277e-01, 8.33870682e-02, 5.98486214e-01,\n",
       "        6.03237713e-01, 2.17110101e-01],\n",
       "       [1.03976451e-02, 1.42642313e-01, 9.29221092e-03, 8.63313219e-02,\n",
       "        2.14514159e-01, 8.99806768e-02, 1.99323105e-02, 1.43058310e-01,\n",
       "        1.44194078e-01, 5.18966075e-02],\n",
       "       [6.09871878e-03, 8.36665753e-02, 5.45032850e-03, 5.06374713e-02,\n",
       "        1.25822869e-01, 5.27779935e-02, 1.16912585e-02, 8.39105776e-02,\n",
       "        8.45767601e-02, 3.04398556e-02],\n",
       "       [2.73645062e-02, 3.75405819e-01, 2.44552263e-02, 2.27206639e-01,\n",
       "        5.64558031e-01, 2.36811006e-01, 5.24578240e-02, 3.76500640e-01,\n",
       "        3.79489752e-01, 1.36581411e-01],\n",
       "       [1.70849379e-04, 2.34383367e-03, 1.52685387e-04, 1.41855705e-03,\n",
       "        3.52479917e-03, 1.47852159e-03, 3.27518669e-04, 2.35066914e-03,\n",
       "        2.36933156e-03, 8.52741470e-04],\n",
       "       [2.78326045e-02, 3.81827525e-01, 2.48735583e-02, 2.31093245e-01,\n",
       "        5.74215382e-01, 2.40861904e-01, 5.33551695e-02, 3.82941074e-01,\n",
       "        3.85981318e-01, 1.38917778e-01],\n",
       "       [3.83673145e-02, 5.26350193e-01, 3.42882620e-02, 3.18562612e-01,\n",
       "        7.91557332e-01, 3.32028734e-01, 7.35502339e-02, 5.27885223e-01,\n",
       "        5.32076206e-01, 1.91498502e-01],\n",
       "       [3.89533179e-02, 5.34389405e-01, 3.48119640e-02, 3.23428180e-01,\n",
       "        8.03647188e-01, 3.37099976e-01, 7.46736038e-02, 5.35947881e-01,\n",
       "        5.40202875e-01, 1.94423356e-01],\n",
       "       [5.22407147e-03, 7.16675394e-02, 4.66867003e-03, 4.33753020e-02,\n",
       "        1.07777991e-01, 4.52088413e-02, 1.00145575e-02, 7.18765482e-02,\n",
       "        7.24471901e-02, 2.60743259e-02]])"
      ]
     },
     "execution_count": 54,
     "metadata": {},
     "output_type": "execute_result"
    }
   ],
   "source": [
    "A = np.random.uniform(0,1,10)\n",
    "B = np.random.uniform(0,1,10)\n",
    "\n",
    "np.einsum('i->', A)       # np.sum(A)\n",
    "np.einsum('i,i->i', A, B) # A * B\n",
    "np.einsum('i,i', A, B)    # np.inner(A, B)\n",
    "np.einsum('i,j->ij', A, B)    # np.outer(A, B)"
   ]
  },
  {
   "cell_type": "markdown",
   "metadata": {
    "id": "takfB65WB9EZ"
   },
   "source": [
    "#### 98. Considering a path described by two vectors (X,Y), how to sample it using equidistant samples (★★★)? \n",
    "(**hint**: np.cumsum, np.interp)"
   ]
  },
  {
   "cell_type": "code",
   "execution_count": 56,
   "metadata": {
    "id": "KyidZZAdB9EZ"
   },
   "outputs": [],
   "source": [
    "phi = np.arange(0, 10*np.pi, 0.1)\n",
    "a = 1\n",
    "x = a*phi*np.cos(phi)\n",
    "y = a*phi*np.sin(phi)\n",
    "\n",
    "dr = (np.diff(x)**2 + np.diff(y)**2)**.5 # segment lengths\n",
    "r = np.zeros_like(x)\n",
    "r[1:] = np.cumsum(dr)                # integrate path\n",
    "r_int = np.linspace(0, r.max(), 200) # regular spaced path\n",
    "x_int = np.interp(r_int, r, x)       # integrate path\n",
    "y_int = np.interp(r_int, r, y)"
   ]
  },
  {
   "cell_type": "markdown",
   "metadata": {
    "id": "shDPB3oBB9Ea"
   },
   "source": [
    "#### 99. Given an integer n and a 2D array X, select from X the rows which can be interpreted as draws from a multinomial distribution with n degrees, i.e., the rows which only contain integers and which sum to n. (★★★) \n",
    "(**hint**: np.logical\\_and.reduce, np.mod)"
   ]
  },
  {
   "cell_type": "code",
   "execution_count": 57,
   "metadata": {
    "id": "WsHLz4OBB9Ea"
   },
   "outputs": [
    {
     "name": "stdout",
     "output_type": "stream",
     "text": [
      "[[2. 0. 1. 1.]]\n"
     ]
    }
   ],
   "source": [
    "X = np.asarray([[1.0, 0.0, 3.0, 8.0],\n",
    "                [2.0, 0.0, 1.0, 1.0],\n",
    "                [1.5, 2.5, 1.0, 0.0]])\n",
    "n = 4\n",
    "M = np.logical_and.reduce(np.mod(X, 1) == 0, axis=-1)\n",
    "M &= (X.sum(axis=-1) == n)\n",
    "print(X[M])"
   ]
  },
  {
   "cell_type": "markdown",
   "metadata": {
    "id": "CC4YDEO5B9Ea"
   },
   "source": [
    "#### 100. Compute bootstrapped 95% confidence intervals for the mean of a 1D array X (i.e., resample the elements of an array with replacement N times, compute the mean of each sample, and then compute percentiles over the means). (★★★) \n",
    "(**hint**: np.percentile)"
   ]
  },
  {
   "cell_type": "code",
   "execution_count": 58,
   "metadata": {
    "id": "sc78WTbnB9Eb"
   },
   "outputs": [
    {
     "name": "stdout",
     "output_type": "stream",
     "text": [
      "[-0.16531023  0.27698438]\n"
     ]
    }
   ],
   "source": [
    "X = np.random.randn(100) # random 1D array\n",
    "N = 1000 # number of bootstrap samples\n",
    "idx = np.random.randint(0, X.size, (N, X.size))\n",
    "means = X[idx].mean(axis=1)\n",
    "confint = np.percentile(means, [2.5, 97.5])\n",
    "print(confint)"
   ]
  }
 ],
 "metadata": {
  "colab": {
   "provenance": []
  },
  "kernelspec": {
   "display_name": "Python 3 (ipykernel)",
   "language": "python",
   "name": "python3"
  },
  "language_info": {
   "codemirror_mode": {
    "name": "ipython",
    "version": 3
   },
   "file_extension": ".py",
   "mimetype": "text/x-python",
   "name": "python",
   "nbconvert_exporter": "python",
   "pygments_lexer": "ipython3",
   "version": "3.9.12"
  }
 },
 "nbformat": 4,
 "nbformat_minor": 1
}
