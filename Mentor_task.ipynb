{
  "nbformat": 4,
  "nbformat_minor": 0,
  "metadata": {
    "colab": {
      "provenance": []
    },
    "kernelspec": {
      "name": "python3",
      "display_name": "Python 3"
    },
    "language_info": {
      "name": "python"
    }
  },
  "cells": [
    {
      "cell_type": "code",
      "execution_count": 1,
      "metadata": {
        "id": "8cM6h-RJU1vQ"
      },
      "outputs": [],
      "source": [
        "import itertools as it\n"
      ]
    },
    {
      "cell_type": "code",
      "source": [
        "x=[0,1,2,3,4,5,6,7,8,9]\n",
        "c=it.permutations(x,4)\n",
        "password=(5,7,3,8)\n",
        "count=0\n",
        "for i in list(c):\n",
        "  count=count+1\n",
        "  if i==(5,7,3,8):\n",
        "    print(i,count)\n"
      ],
      "metadata": {
        "colab": {
          "base_uri": "https://localhost:8080/"
        },
        "id": "d_7FWJ4PVBZX",
        "outputId": "4c015ddc-caa2-499b-dc7d-948bc67baa4f"
      },
      "execution_count": 5,
      "outputs": [
        {
          "output_type": "stream",
          "name": "stdout",
          "text": [
            "(5, 7, 3, 8) 2883\n"
          ]
        }
      ]
    }
  ]
}